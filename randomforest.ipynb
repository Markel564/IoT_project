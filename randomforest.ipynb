{
 "cells": [
  {
   "cell_type": "code",
   "execution_count": 5,
   "metadata": {},
   "outputs": [],
   "source": [
    "import pandas as pd\n",
    "from operations.adjust_dataset import adjust_dataset\n",
    "from operations.lin import LinearRegressionModel\n",
    "import seaborn as sns\n",
    "import matplotlib.pyplot as plt\n",
    "from sklearn.model_selection import train_test_split\n",
    "from sklearn.linear_model import LinearRegression\n",
    "from sklearn.ensemble import RandomForestRegressor\n",
    "from sklearn.metrics import mean_squared_error,mean_absolute_error\n",
    "from sklearn.model_selection import GridSearchCV\n",
    "import numpy as np\n",
    "import warnings\n",
    "warnings.filterwarnings('ignore')"
   ]
  },
  {
   "cell_type": "code",
   "execution_count": null,
   "metadata": {},
   "outputs": [],
   "source": []
  },
  {
   "cell_type": "code",
   "execution_count": 8,
   "metadata": {},
   "outputs": [
    {
     "name": "stdout",
     "output_type": "stream",
     "text": [
      "Mean Squared Error (MSE) on Test Data: 2.4209939056897043\n",
      "1.555954339204626\n"
     ]
    }
   ],
   "source": [
    "df = pd.read_csv('docs/data/GlobalWeatherRepository.csv')\n",
    "\n",
    "df = adjust_dataset(df, 'Kabul')\n",
    "window_size = 7\n",
    "output_size = 3\n",
    "# Create lagged features for temperature_celsius\n",
    "for lag in range(1, window_size + 1):  # Create lags up to the window size\n",
    "    df[f'temp_lag_{lag}'] = df['temperature_celsius'].shift(lag)\n",
    "\n",
    "# Function to create sequences for a single feature (temperature_celsius)\n",
    "def create_temp_sequences(data, window_size, output_size):\n",
    "    X, y = [], []\n",
    "    for i in range(len(data) - window_size - output_size + 1):\n",
    "        X.append(data[i:(i + window_size)])\n",
    "        y.append(data[i + window_size:i + window_size + output_size])\n",
    "    return np.array(X), np.array(y)\n",
    "\n",
    "# Create sequences using only temperature_celsius\n",
    "temp_data = df['temperature_celsius']\n",
    "X_seq, y_seq = create_temp_sequences(temp_data, window_size, output_size)\n",
    "\n",
    "\n",
    "# Sequential Train-Test Split\n",
    "train_size_seq = int(len(X_seq) * 0.7)\n",
    "X_train_seq, X_test_seq = X_seq[:train_size_seq], X_seq[train_size_seq:]\n",
    "y_train_seq, y_test_seq = y_seq[:train_size_seq], y_seq[train_size_seq:]\n",
    "\n",
    "# Create weights for the training set - higher weights for more recent data\n",
    "# The weights increase linearly from a starting value (e.g., 1) to an end value (e.g., 10)\n",
    "weights = np.linspace(1, 100, num=len(X_train_seq))\n",
    "\n",
    "\n",
    "# Train the model with these weights\n",
    "model = LinearRegression(copy_X = True, fit_intercept = False, n_jobs = None, positive = True)\n",
    "model.fit(X_train_seq, y_train_seq, sample_weight=weights)\n",
    "\n",
    "# Model is now trained on past temperature data to predict future temperatures\n",
    "# Make predictions on the test set\n",
    "y_pred_seq = model.predict(X_test_seq)\n",
    "\n",
    "# Evaluate the model\n",
    "mse_seq = mean_squared_error(y_test_seq, y_pred_seq)\n",
    "\n",
    "\n",
    "# Print the evaluation results\n",
    "print(f\"Mean Squared Error (MSE) on Test Data: {mse_seq}\")\n",
    "rnse = np.sqrt(mse_seq)\n",
    "print(rnse)\n",
    "\n"
   ]
  },
  {
   "cell_type": "markdown",
   "metadata": {},
   "source": [
    "Random tree forest search"
   ]
  },
  {
   "cell_type": "code",
   "execution_count": 12,
   "metadata": {},
   "outputs": [
    {
     "name": "stdout",
     "output_type": "stream",
     "text": [
      "               country     location_name  latitude  longitude  \\\n",
      "0          Afghanistan             Kabul     34.52      69.18   \n",
      "1              Albania            Tirana     41.33      19.82   \n",
      "2              Algeria           Algiers     36.76       3.05   \n",
      "3              Andorra  Andorra La Vella     42.50       1.52   \n",
      "4               Angola            Luanda     -8.84      13.23   \n",
      "5  Antigua and Barbuda      Saint John's     17.12     -61.85   \n",
      "6            Argentina      Buenos Aires    -34.59     -58.67   \n",
      "7              Armenia           Yerevan     40.18      44.51   \n",
      "8            Australia          Canberra    -35.28     149.22   \n",
      "9              Austria            Vienna     48.20      16.37   \n",
      "\n",
      "                         timezone  last_updated_epoch      last_updated  \\\n",
      "0                      Asia/Kabul          1693301400  2023-08-29 14:00   \n",
      "1                   Europe/Tirane          1693301400  2023-08-29 11:30   \n",
      "2                  Africa/Algiers          1693301400  2023-08-29 10:30   \n",
      "3                  Europe/Andorra          1693301400  2023-08-29 11:30   \n",
      "4                   Africa/Luanda          1693301400  2023-08-29 10:30   \n",
      "5                 America/Antigua          1693301400  2023-08-29 05:30   \n",
      "6  America/Argentina/Buenos_Aires          1693301400  2023-08-29 06:30   \n",
      "7                    Asia/Yerevan          1693301400  2023-08-29 13:30   \n",
      "8                Australia/Sydney          1693301400  2023-08-29 19:30   \n",
      "9                   Europe/Vienna          1693301400  2023-08-29 11:30   \n",
      "\n",
      "   temperature_celsius  temperature_fahrenheit condition_text  ...  \\\n",
      "0                 28.8                    83.8          Sunny  ...   \n",
      "1                 27.0                    80.6  Partly cloudy  ...   \n",
      "2                 28.0                    82.4  Partly cloudy  ...   \n",
      "3                 10.2                    50.4          Sunny  ...   \n",
      "4                 25.0                    77.0  Partly cloudy  ...   \n",
      "5                 29.0                    84.2     Light rain  ...   \n",
      "6                  9.0                    48.2          Clear  ...   \n",
      "7                 31.0                    87.8  Partly cloudy  ...   \n",
      "8                 13.0                    55.4          Clear  ...   \n",
      "9                 16.0                    60.8     Light rain  ...   \n",
      "\n",
      "   air_quality_PM2.5  air_quality_PM10  air_quality_us-epa-index  \\\n",
      "0                7.9              11.1                         1   \n",
      "1               28.2              29.6                         2   \n",
      "2                6.4               7.9                         1   \n",
      "3                0.5               0.8                         1   \n",
      "4              139.6             203.3                         4   \n",
      "5                0.8               1.9                         1   \n",
      "6                2.1               3.5                         1   \n",
      "7                5.0               6.2                         1   \n",
      "8                4.0               5.8                         1   \n",
      "9               13.1              14.9                         1   \n",
      "\n",
      "  air_quality_gb-defra-index   sunrise    sunset  moonrise   moonset  \\\n",
      "0                          1  05:24 AM  06:24 PM  05:39 PM  02:48 AM   \n",
      "1                          3  06:04 AM  07:19 PM  06:50 PM  03:25 AM   \n",
      "2                          1  06:16 AM  07:21 PM  06:46 PM  03:50 AM   \n",
      "3                          1  07:16 AM  08:34 PM  08:08 PM  04:38 AM   \n",
      "4                         10  06:11 AM  06:06 PM  04:43 PM  04:41 AM   \n",
      "5                          1  05:53 AM  06:23 PM  05:36 PM  04:09 AM   \n",
      "6                          1  07:18 AM  06:34 PM  04:57 PM  06:32 AM   \n",
      "7                          1  06:26 AM  07:39 PM  07:05 PM  03:45 AM   \n",
      "8                          1  06:27 AM  05:42 PM  03:19 PM  05:17 AM   \n",
      "9                          2  06:07 AM  07:43 PM  07:27 PM  03:11 AM   \n",
      "\n",
      "       moon_phase  moon_illumination  \n",
      "0  Waxing Gibbous                 93  \n",
      "1  Waxing Gibbous                 93  \n",
      "2  Waxing Gibbous                 93  \n",
      "3  Waxing Gibbous                 93  \n",
      "4  Waxing Gibbous                 93  \n",
      "5  Waxing Gibbous                 93  \n",
      "6  Waxing Gibbous                 93  \n",
      "7  Waxing Gibbous                 93  \n",
      "8  Waxing Gibbous                 93  \n",
      "9  Waxing Gibbous                 93  \n",
      "\n",
      "[10 rows x 41 columns]\n"
     ]
    }
   ],
   "source": [
    "df = pd.read_csv('GlobalWeatherRepository.csv')\n",
    "targetvar = ['temperature_celsius', 'wind_kph', 'humidity', 'pressure_mb', 'precip_mm', 'cloud']\n",
    "\n",
    "# 3. Split the data into features (X) and target variables (y)\n",
    "X = df.drop(columns=targetvar)\n",
    "y = df[targetvar]\n",
    "\n",
    "# 4. Split the data into training and testing sets\n",
    "X_train, X_test, y_train, y_test = train_test_split(X, y, test_size=0.3, random_state=42)\n",
    "\n",
    "# 5. Create and train the Random Forest model\n",
    "rf = RandomForestRegressor(n_estimators=100, random_state=42)  # You can tune these hyperparameters\n",
    "rf.fit(X_train, y_train)\n",
    "\n",
    "# 6. Make predictions and evaluate the model\n",
    "predictions = rf.predict(X_test)\n",
    "\n",
    "# Evaluate the performance\n",
    "mse = mean_squared_error(y_test, predictions)\n",
    "mae = mean_absolute_error(y_test, predictions)\n",
    "print(f\"Mean Squared Error: {mse}\")\n",
    "print(f\"Mean Absolute Error: {mae}\")\n",
    "\n"
   ]
  },
  {
   "cell_type": "code",
   "execution_count": 7,
   "metadata": {},
   "outputs": [
    {
     "ename": "TypeError",
     "evalue": "object of type 'ellipsis' has no len()",
     "output_type": "error",
     "traceback": [
      "\u001b[1;31m---------------------------------------------------------------------------\u001b[0m",
      "\u001b[1;31mTypeError\u001b[0m                                 Traceback (most recent call last)",
      "\u001b[1;32mc:\\Users\\OMEN\\Documents\\Iot_JM\\linearregression.ipynb Cell 4\u001b[0m line \u001b[0;36m9\n\u001b[0;32m      <a href='vscode-notebook-cell:/c%3A/Users/OMEN/Documents/Iot_JM/linearregression.ipynb#W3sZmlsZQ%3D%3D?line=6'>7</a>\u001b[0m model\u001b[39m.\u001b[39mbuild_model()\n\u001b[0;32m      <a href='vscode-notebook-cell:/c%3A/Users/OMEN/Documents/Iot_JM/linearregression.ipynb#W3sZmlsZQ%3D%3D?line=7'>8</a>\u001b[0m weights \u001b[39m=\u001b[39m np\u001b[39m.\u001b[39mlinspace(\u001b[39m1\u001b[39m, \u001b[39m100\u001b[39m, num\u001b[39m=\u001b[39m\u001b[39mlen\u001b[39m(X_train_seq))\n\u001b[1;32m----> <a href='vscode-notebook-cell:/c%3A/Users/OMEN/Documents/Iot_JM/linearregression.ipynb#W3sZmlsZQ%3D%3D?line=8'>9</a>\u001b[0m model\u001b[39m.\u001b[39;49mtrain_model(sample_weight\u001b[39m=\u001b[39;49mweights)  \u001b[39m# weights as defined in your notebook\u001b[39;00m\n\u001b[0;32m     <a href='vscode-notebook-cell:/c%3A/Users/OMEN/Documents/Iot_JM/linearregression.ipynb#W3sZmlsZQ%3D%3D?line=9'>10</a>\u001b[0m mse, rmse \u001b[39m=\u001b[39m model\u001b[39m.\u001b[39mevaluate()\n\u001b[0;32m     <a href='vscode-notebook-cell:/c%3A/Users/OMEN/Documents/Iot_JM/linearregression.ipynb#W3sZmlsZQ%3D%3D?line=10'>11</a>\u001b[0m \u001b[39mprint\u001b[39m(\u001b[39mf\u001b[39m\u001b[39m\"\u001b[39m\u001b[39mMean Squared Error (MSE) on Test Data: \u001b[39m\u001b[39m{\u001b[39;00mmse\u001b[39m}\u001b[39;00m\u001b[39m\"\u001b[39m)\n",
      "File \u001b[1;32mc:\\Users\\OMEN\\Documents\\Iot_JM\\operations\\lin.py:20\u001b[0m, in \u001b[0;36mLinearRegressionModel.train_model\u001b[1;34m(self, sample_weight)\u001b[0m\n\u001b[0;32m     19\u001b[0m \u001b[39mdef\u001b[39;00m \u001b[39mtrain_model\u001b[39m(\u001b[39mself\u001b[39m, sample_weight\u001b[39m=\u001b[39m\u001b[39mNone\u001b[39;00m):\n\u001b[1;32m---> 20\u001b[0m     X_train, y_train \u001b[39m=\u001b[39m \u001b[39mself\u001b[39;49m\u001b[39m.\u001b[39;49mcreate_sequences(\u001b[39mself\u001b[39;49m\u001b[39m.\u001b[39;49my_train)\n\u001b[0;32m     21\u001b[0m     \u001b[39mself\u001b[39m\u001b[39m.\u001b[39mmodel\u001b[39m.\u001b[39mfit(X_train, y_train, sample_weight\u001b[39m=\u001b[39msample_weight)\n",
      "File \u001b[1;32mc:\\Users\\OMEN\\Documents\\Iot_JM\\operations\\lin.py:35\u001b[0m, in \u001b[0;36mLinearRegressionModel.create_sequences\u001b[1;34m(self, data)\u001b[0m\n\u001b[0;32m     33\u001b[0m \u001b[39mdef\u001b[39;00m \u001b[39mcreate_sequences\u001b[39m(\u001b[39mself\u001b[39m, data):\n\u001b[0;32m     34\u001b[0m     X, y \u001b[39m=\u001b[39m [], []\n\u001b[1;32m---> 35\u001b[0m     \u001b[39mfor\u001b[39;00m i \u001b[39min\u001b[39;00m \u001b[39mrange\u001b[39m(\u001b[39mlen\u001b[39;49m(data) \u001b[39m-\u001b[39m \u001b[39mself\u001b[39m\u001b[39m.\u001b[39mwindow_size \u001b[39m-\u001b[39m \u001b[39mself\u001b[39m\u001b[39m.\u001b[39moutput_size \u001b[39m+\u001b[39m \u001b[39m1\u001b[39m):\n\u001b[0;32m     36\u001b[0m         X\u001b[39m.\u001b[39mappend(data[i:(i \u001b[39m+\u001b[39m \u001b[39mself\u001b[39m\u001b[39m.\u001b[39mwindow_size)])\n\u001b[0;32m     37\u001b[0m         y\u001b[39m.\u001b[39mappend(data[i \u001b[39m+\u001b[39m \u001b[39mself\u001b[39m\u001b[39m.\u001b[39mwindow_size:i \u001b[39m+\u001b[39m \u001b[39mself\u001b[39m\u001b[39m.\u001b[39mwindow_size \u001b[39m+\u001b[39m \u001b[39mself\u001b[39m\u001b[39m.\u001b[39moutput_size])\n",
      "\u001b[1;31mTypeError\u001b[0m: object of type 'ellipsis' has no len()"
     ]
    }
   ],
   "source": [
    "\n",
    "# Usage example\n",
    "y_train_seq = ...  # your y_train data\n",
    "y_test_seq = ...   # your y_test data\n",
    "target_variable = 'temperature_celsius'  # your target variable\n",
    "\n",
    "model = LinearRegressionModel(y_train_seq, y_test_seq, 7, 3, target_variable)\n",
    "model.build_model()\n",
    "weights = np.linspace(1, 100, num=len(X_train_seq))\n",
    "model.train_model(sample_weight=weights)  # weights as defined in your notebook\n",
    "mse, rmse = model.evaluate()\n",
    "print(f\"Mean Squared Error (MSE) on Test Data: {mse}\")\n",
    "print(f\"Root Mean Squared Error (RMSE): {rmse}\")\n",
    "\n"
   ]
  },
  {
   "cell_type": "code",
   "execution_count": null,
   "metadata": {},
   "outputs": [],
   "source": [
    "mse = model.evaluate()\n",
    "print(mse)"
   ]
  },
  {
   "cell_type": "code",
   "execution_count": null,
   "metadata": {},
   "outputs": [],
   "source": [
    "predictions = model.predict()\n",
    "print(predictions)"
   ]
  },
  {
   "cell_type": "code",
   "execution_count": null,
   "metadata": {},
   "outputs": [
    {
     "ename": "NameError",
     "evalue": "name 'adjust_dataset' is not defined",
     "output_type": "error",
     "traceback": [
      "\u001b[1;31m---------------------------------------------------------------------------\u001b[0m",
      "\u001b[1;31mNameError\u001b[0m                                 Traceback (most recent call last)",
      "\u001b[1;32mc:\\Users\\OMEN\\Documents\\Iot_JM\\linearregression.ipynb Cell 6\u001b[0m line \u001b[0;36m3\n\u001b[0;32m      <a href='vscode-notebook-cell:/c%3A/Users/OMEN/Documents/Iot_JM/linearregression.ipynb#W5sZmlsZQ%3D%3D?line=0'>1</a>\u001b[0m df \u001b[39m=\u001b[39m pd\u001b[39m.\u001b[39mread_csv(\u001b[39m'\u001b[39m\u001b[39mdocs/data/GlobalWeatherRepository.csv\u001b[39m\u001b[39m'\u001b[39m)\n\u001b[1;32m----> <a href='vscode-notebook-cell:/c%3A/Users/OMEN/Documents/Iot_JM/linearregression.ipynb#W5sZmlsZQ%3D%3D?line=2'>3</a>\u001b[0m df \u001b[39m=\u001b[39m adjust_dataset(df, \u001b[39m'\u001b[39m\u001b[39mMadrid\u001b[39m\u001b[39m'\u001b[39m)\n\u001b[0;32m      <a href='vscode-notebook-cell:/c%3A/Users/OMEN/Documents/Iot_JM/linearregression.ipynb#W5sZmlsZQ%3D%3D?line=3'>4</a>\u001b[0m window_size \u001b[39m=\u001b[39m \u001b[39m7\u001b[39m\n\u001b[0;32m      <a href='vscode-notebook-cell:/c%3A/Users/OMEN/Documents/Iot_JM/linearregression.ipynb#W5sZmlsZQ%3D%3D?line=4'>5</a>\u001b[0m output_size \u001b[39m=\u001b[39m \u001b[39m3\u001b[39m\n",
      "\u001b[1;31mNameError\u001b[0m: name 'adjust_dataset' is not defined"
     ]
    }
   ],
   "source": [
    "\n"
   ]
  },
  {
   "cell_type": "code",
   "execution_count": null,
   "metadata": {},
   "outputs": [
    {
     "name": "stdout",
     "output_type": "stream",
     "text": [
      "Best Hyperparameters: {'copy_X': True, 'fit_intercept': False, 'n_jobs': None, 'positive': True}\n",
      "Mean Squared Error on Test Set: 8.082073973796033\n"
     ]
    }
   ],
   "source": [
    "param_grid = {\n",
    "    'fit_intercept': [True, False],\n",
    "    'copy_X': [True, False],\n",
    "    'n_jobs': [None, -1],\n",
    "    'positive': [True, False]\n",
    "}\n",
    "\n",
    "#Create the grid search with cross-validation\n",
    "grid_search = GridSearchCV(model, param_grid, scoring='neg_mean_squared_error', cv=5)\n",
    "\n",
    "#Fit the grid search to the data\n",
    "grid_search.fit(X_train_seq, y_train_seq)\n",
    "\n",
    "#Get the best hyperparameters\n",
    "best_params = grid_search.best_params_\n",
    "print(\"Best Hyperparameters:\", best_params)\n",
    "\n",
    "#Get the best model\n",
    "best_model = grid_search.best_estimator_\n",
    "\n",
    "#Evaluate the model on the test set\n",
    "y_pred = best_model.predict(X_test_seq)\n",
    "mse = mean_squared_error(y_test_seq, y_pred)\n",
    "print(\"Mean Squared Error on Test Set:\", mse)"
   ]
  }
 ],
 "metadata": {
  "kernelspec": {
   "display_name": "Python 3",
   "language": "python",
   "name": "python3"
  },
  "language_info": {
   "codemirror_mode": {
    "name": "ipython",
    "version": 3
   },
   "file_extension": ".py",
   "mimetype": "text/x-python",
   "name": "python",
   "nbconvert_exporter": "python",
   "pygments_lexer": "ipython3",
   "version": "3.11.3"
  }
 },
 "nbformat": 4,
 "nbformat_minor": 2
}
