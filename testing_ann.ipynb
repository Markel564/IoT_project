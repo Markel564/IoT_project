{
 "cells": [
  {
   "cell_type": "code",
   "execution_count": 8,
   "metadata": {},
   "outputs": [],
   "source": [
    "import warnings\n",
    "warnings.filterwarnings('ignore')\n",
    "import pandas as pd\n",
    "\n",
    "from operations import adjust_dataset, split_data, Ann, adjust_dataset2\n"
   ]
  },
  {
   "cell_type": "code",
   "execution_count": 9,
   "metadata": {},
   "outputs": [
    {
     "name": "stdout",
     "output_type": "stream",
     "text": [
      "(17946, 48)\n"
     ]
    }
   ],
   "source": [
    "df = pd.read_csv('docs/data/GlobalWeatherRepository.csv')\n",
    "target_variable = 'temperature_celsius'\n",
    "df = adjust_dataset(df, target_variable=target_variable)\n",
    "print (df.shape)\n",
    "# for column in df.columns:\n",
    "#     # Print the mean value of columns\n",
    "#     print(column, df[column].mean())\n",
    "\n",
    "# lets print all the values (just print the name of the column) whose\n",
    "# value is higher than 1 or lower than -1. Do not include temperature_celsius\n",
    "\n",
    "\n",
    "# for column in df.columns:\n",
    "#     # if column is not the target variable and is an integer or float\n",
    "#     if column != target_variable and df[column].dtype in ['int64', 'float64']:\n",
    "#         # print the column name\n",
    "#         print(column)\n",
    "#         # print the values that are higher than 1 or lower than -1\n",
    "#         print(df[column][(df[column] > 1) | (df[column] < -1)])\n",
    "#         print('\\n')"
   ]
  },
  {
   "cell_type": "code",
   "execution_count": 12,
   "metadata": {},
   "outputs": [
    {
     "name": "stdout",
     "output_type": "stream",
     "text": [
      "Cantidad de windows:  15962\n",
      "Cantidad de labels:  15962\n"
     ]
    }
   ],
   "source": [
    "df = df[:-7]\n",
    "model = Ann(df, 'temperature_celsius')\n",
    "model.train_model(epochs=50, batch_size=32)"
   ]
  },
  {
   "cell_type": "code",
   "execution_count": 13,
   "metadata": {},
   "outputs": [
    {
     "name": "stdout",
     "output_type": "stream",
     "text": [
      "3.349555730819702\n"
     ]
    }
   ],
   "source": [
    "res = model.evaluate()\n",
    "print (res)"
   ]
  },
  {
   "cell_type": "code",
   "execution_count": null,
   "metadata": {},
   "outputs": [
    {
     "name": "stdout",
     "output_type": "stream",
     "text": [
      "gust_kph --> 1.0253242521685024e-07\n",
      "air_quality_PM10 --> 1.0253242521685024e-07\n",
      "sunset --> 1.0253242521685024e-07\n",
      "moon_illumination --> 1.0253242521685024e-07\n",
      "condition_text_Fog --> 1.0253242521685024e-07\n",
      "moon_phase_Last Quarter --> 1.0253242521685024e-07\n",
      "moon_phase_Waning Gibbous --> 1.0253242521685024e-07\n",
      "wind_kph --> 0.0\n",
      "wind_degree --> 0.0\n",
      "pressure_mb --> 0.0\n",
      "precip_mm --> 0.0\n",
      "humidity --> 0.0\n",
      "cloud --> 0.0\n",
      "feels_like_celsius --> 0.0\n",
      "visibility_km --> 0.0\n",
      "uv_index --> 0.0\n",
      "air_quality_Carbon_Monoxide --> 0.0\n",
      "air_quality_Ozone --> 0.0\n",
      "air_quality_Nitrogen_dioxide --> 0.0\n",
      "air_quality_Sulphur_dioxide --> 0.0\n",
      "air_quality_PM2.5 --> 0.0\n",
      "sunrise --> 0.0\n",
      "moonrise --> 0.0\n",
      "moonset --> 0.0\n",
      "condition_text_Clear --> 0.0\n",
      "condition_text_Light rain --> 0.0\n",
      "condition_text_Mist --> 0.0\n",
      "condition_text_Moderate or heavy rain with thunder --> 0.0\n",
      "condition_text_Overcast --> 0.0\n",
      "condition_text_Partly cloudy --> 0.0\n",
      "condition_text_Sunny --> 0.0\n",
      "wind_direction_E --> 0.0\n",
      "wind_direction_ENE --> 0.0\n",
      "wind_direction_ESE --> 0.0\n",
      "wind_direction_N --> 0.0\n",
      "wind_direction_NE --> 0.0\n",
      "wind_direction_NNE --> 0.0\n",
      "wind_direction_NNW --> 0.0\n",
      "wind_direction_S --> 0.0\n",
      "wind_direction_SE --> 0.0\n",
      "wind_direction_SSE --> 0.0\n",
      "wind_direction_SSW --> 0.0\n",
      "wind_direction_SW --> 0.0\n",
      "wind_direction_W --> 0.0\n",
      "wind_direction_WNW --> 0.0\n",
      "wind_direction_WSW --> 0.0\n",
      "moon_phase_First Quarter --> 0.0\n",
      "moon_phase_New Moon --> 0.0\n",
      "moon_phase_Waning Crescent --> 0.0\n",
      "moon_phase_Waxing Crescent --> 0.0\n",
      "moon_phase_Waxing Gibbous --> 0.0\n",
      "air_quality_gb-defra-index --> -1.0253242521685024e-07\n",
      "moon_phase_Full Moon --> -1.0253242521685024e-07\n"
     ]
    }
   ],
   "source": [
    "\n",
    "# Compute feature importance\n",
    "feature_importance_values = model.compute_feature_importance()\n",
    "\n",
    "sorted_feature_importance = sorted(feature_importance_values, key=lambda x: x[1], reverse=True)\n",
    "\n",
    "# Iterate over the sorted list and print column name and value\n",
    "for column, value in sorted_feature_importance:\n",
    "    print(f\"{column} --> {value}\")\n"
   ]
  },
  {
   "cell_type": "code",
   "execution_count": null,
   "metadata": {},
   "outputs": [
    {
     "data": {
      "text/plain": [
       "array([14.498802, 13.253254, 12.907271], dtype=float32)"
      ]
     },
     "execution_count": 5,
     "metadata": {},
     "output_type": "execute_result"
    }
   ],
   "source": [
    "model.predict(df[-7:])"
   ]
  },
  {
   "cell_type": "markdown",
   "metadata": {},
   "source": [
    "# Hyperparameter tuning\n"
   ]
  },
  {
   "cell_type": "code",
   "execution_count": null,
   "metadata": {},
   "outputs": [],
   "source": [
    "hyperparameter_grid = {\n",
    "    'lr': [0.01],\n",
    "    'batch_size': [32, 64],\n",
    "    'dropout': [0.2],\n",
    "    'num_layers': [1, 2, 3],\n",
    "    'neurons_per_layer': [32, 64, 128],\n",
    "    'lr_schedule': ['constant', 'step_decay', 'exponential_decay'],\n",
    "    'optimizer': ['SGD', 'Adam', 'RMSprop']\n",
    "}\n",
    "num_epochs_list = [50, 100]\n",
    "tuning_results = model.hyperparameter_tuning(hyperparameter_grid, num_epochs_list=num_epochs_list)\n",
    "\n",
    "print (tuning_results)"
   ]
  }
 ],
 "metadata": {
  "kernelspec": {
   "display_name": "Python 3",
   "language": "python",
   "name": "python3"
  },
  "language_info": {
   "codemirror_mode": {
    "name": "ipython",
    "version": 3
   },
   "file_extension": ".py",
   "mimetype": "text/x-python",
   "name": "python",
   "nbconvert_exporter": "python",
   "pygments_lexer": "ipython3",
   "version": "3.9.5"
  }
 },
 "nbformat": 4,
 "nbformat_minor": 2
}
