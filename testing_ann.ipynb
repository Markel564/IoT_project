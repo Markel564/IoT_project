{
 "cells": [
  {
   "cell_type": "code",
   "execution_count": 2,
   "metadata": {},
   "outputs": [],
   "source": [
    "import warnings\n",
    "warnings.filterwarnings('ignore')\n",
    "import pandas as pd\n",
    "\n",
    "from operations import adjust_dataset, split_data, Ann\n"
   ]
  },
  {
   "cell_type": "code",
   "execution_count": 3,
   "metadata": {},
   "outputs": [
    {
     "name": "stdout",
     "output_type": "stream",
     "text": [
      "(18709, 48)\n"
     ]
    }
   ],
   "source": [
    "df = pd.read_csv('docs/data/GlobalWeatherRepository.csv')\n",
    "target_variable = 'temperature_celsius'\n",
    "# target_variable = 'cloud'\n",
    "df = adjust_dataset(df, target_variable=target_variable)\n",
    "\n",
    "print (df.shape)\n",
    "\n",
    "# for temperature in df['temperature_celsius'].unique():\n",
    "#     print (temperature)\n",
    "\n",
    "\n"
   ]
  },
  {
   "cell_type": "code",
   "execution_count": 5,
   "metadata": {},
   "outputs": [],
   "source": [
    "model = Ann(df, target_variable)\n",
    "model.train_model(epochs=50, batch_size=32)"
   ]
  },
  {
   "cell_type": "code",
   "execution_count": 12,
   "metadata": {},
   "outputs": [
    {
     "name": "stdout",
     "output_type": "stream",
     "text": [
      "3.397000312805176\n"
     ]
    }
   ],
   "source": [
    "res = model.evaluate()\n",
    "print (res)"
   ]
  },
  {
   "cell_type": "code",
   "execution_count": 5,
   "metadata": {},
   "outputs": [
    {
     "data": {
      "text/html": [
       "<div>\n",
       "<style scoped>\n",
       "    .dataframe tbody tr th:only-of-type {\n",
       "        vertical-align: middle;\n",
       "    }\n",
       "\n",
       "    .dataframe tbody tr th {\n",
       "        vertical-align: top;\n",
       "    }\n",
       "\n",
       "    .dataframe thead th {\n",
       "        text-align: right;\n",
       "    }\n",
       "</style>\n",
       "<table border=\"1\" class=\"dataframe\">\n",
       "  <thead>\n",
       "    <tr style=\"text-align: right;\">\n",
       "      <th></th>\n",
       "      <th>location_name</th>\n",
       "      <th>temperature_celsius</th>\n",
       "      <th>wind_kph</th>\n",
       "      <th>wind_degree</th>\n",
       "      <th>pressure_mb</th>\n",
       "      <th>precip_mm</th>\n",
       "      <th>humidity</th>\n",
       "      <th>cloud</th>\n",
       "      <th>feels_like_celsius</th>\n",
       "      <th>visibility_km</th>\n",
       "      <th>...</th>\n",
       "      <th>wind_direction_WNW</th>\n",
       "      <th>wind_direction_WSW</th>\n",
       "      <th>moon_phase_First Quarter</th>\n",
       "      <th>moon_phase_Full Moon</th>\n",
       "      <th>moon_phase_Last Quarter</th>\n",
       "      <th>moon_phase_New Moon</th>\n",
       "      <th>moon_phase_Waning Crescent</th>\n",
       "      <th>moon_phase_Waning Gibbous</th>\n",
       "      <th>moon_phase_Waxing Crescent</th>\n",
       "      <th>moon_phase_Waxing Gibbous</th>\n",
       "    </tr>\n",
       "  </thead>\n",
       "  <tbody>\n",
       "    <tr>\n",
       "      <th>16020</th>\n",
       "      <td>Zagreb</td>\n",
       "      <td>5.0</td>\n",
       "      <td>-0.542414</td>\n",
       "      <td>-1.052661</td>\n",
       "      <td>1.909573</td>\n",
       "      <td>-0.217968</td>\n",
       "      <td>-0.124671</td>\n",
       "      <td>1.177310</td>\n",
       "      <td>-1.689214</td>\n",
       "      <td>0.12613</td>\n",
       "      <td>...</td>\n",
       "      <td>0</td>\n",
       "      <td>0</td>\n",
       "      <td>0</td>\n",
       "      <td>0</td>\n",
       "      <td>0</td>\n",
       "      <td>0</td>\n",
       "      <td>0</td>\n",
       "      <td>0</td>\n",
       "      <td>0</td>\n",
       "      <td>1</td>\n",
       "    </tr>\n",
       "    <tr>\n",
       "      <th>16215</th>\n",
       "      <td>Zagreb</td>\n",
       "      <td>0.0</td>\n",
       "      <td>-0.265099</td>\n",
       "      <td>1.497228</td>\n",
       "      <td>0.711672</td>\n",
       "      <td>-0.217968</td>\n",
       "      <td>0.663327</td>\n",
       "      <td>-1.078754</td>\n",
       "      <td>-2.085631</td>\n",
       "      <td>0.12613</td>\n",
       "      <td>...</td>\n",
       "      <td>0</td>\n",
       "      <td>0</td>\n",
       "      <td>0</td>\n",
       "      <td>0</td>\n",
       "      <td>0</td>\n",
       "      <td>0</td>\n",
       "      <td>0</td>\n",
       "      <td>0</td>\n",
       "      <td>0</td>\n",
       "      <td>1</td>\n",
       "    </tr>\n",
       "    <tr>\n",
       "      <th>16410</th>\n",
       "      <td>Zagreb</td>\n",
       "      <td>6.0</td>\n",
       "      <td>-0.542414</td>\n",
       "      <td>-0.863780</td>\n",
       "      <td>-1.684130</td>\n",
       "      <td>0.510561</td>\n",
       "      <td>0.121578</td>\n",
       "      <td>0.425288</td>\n",
       "      <td>-1.601121</td>\n",
       "      <td>0.12613</td>\n",
       "      <td>...</td>\n",
       "      <td>0</td>\n",
       "      <td>0</td>\n",
       "      <td>0</td>\n",
       "      <td>0</td>\n",
       "      <td>0</td>\n",
       "      <td>0</td>\n",
       "      <td>0</td>\n",
       "      <td>0</td>\n",
       "      <td>0</td>\n",
       "      <td>1</td>\n",
       "    </tr>\n",
       "    <tr>\n",
       "      <th>16605</th>\n",
       "      <td>Zagreb</td>\n",
       "      <td>0.0</td>\n",
       "      <td>-0.895359</td>\n",
       "      <td>-0.958221</td>\n",
       "      <td>-1.085180</td>\n",
       "      <td>-0.217968</td>\n",
       "      <td>-0.420171</td>\n",
       "      <td>-1.078754</td>\n",
       "      <td>-2.032775</td>\n",
       "      <td>0.12613</td>\n",
       "      <td>...</td>\n",
       "      <td>0</td>\n",
       "      <td>0</td>\n",
       "      <td>0</td>\n",
       "      <td>0</td>\n",
       "      <td>0</td>\n",
       "      <td>0</td>\n",
       "      <td>0</td>\n",
       "      <td>0</td>\n",
       "      <td>0</td>\n",
       "      <td>1</td>\n",
       "    </tr>\n",
       "    <tr>\n",
       "      <th>16800</th>\n",
       "      <td>Zagreb</td>\n",
       "      <td>-1.0</td>\n",
       "      <td>-0.630650</td>\n",
       "      <td>-1.335982</td>\n",
       "      <td>0.412197</td>\n",
       "      <td>-0.217968</td>\n",
       "      <td>0.367828</td>\n",
       "      <td>-1.078754</td>\n",
       "      <td>-2.112059</td>\n",
       "      <td>0.12613</td>\n",
       "      <td>...</td>\n",
       "      <td>0</td>\n",
       "      <td>0</td>\n",
       "      <td>0</td>\n",
       "      <td>0</td>\n",
       "      <td>0</td>\n",
       "      <td>0</td>\n",
       "      <td>0</td>\n",
       "      <td>0</td>\n",
       "      <td>0</td>\n",
       "      <td>1</td>\n",
       "    </tr>\n",
       "    <tr>\n",
       "      <th>16995</th>\n",
       "      <td>Zagreb</td>\n",
       "      <td>4.0</td>\n",
       "      <td>-0.945780</td>\n",
       "      <td>-1.147101</td>\n",
       "      <td>-1.384655</td>\n",
       "      <td>-0.149239</td>\n",
       "      <td>0.417078</td>\n",
       "      <td>1.177310</td>\n",
       "      <td>-1.838971</td>\n",
       "      <td>0.12613</td>\n",
       "      <td>...</td>\n",
       "      <td>0</td>\n",
       "      <td>0</td>\n",
       "      <td>0</td>\n",
       "      <td>1</td>\n",
       "      <td>0</td>\n",
       "      <td>0</td>\n",
       "      <td>0</td>\n",
       "      <td>0</td>\n",
       "      <td>0</td>\n",
       "      <td>0</td>\n",
       "    </tr>\n",
       "    <tr>\n",
       "      <th>17190</th>\n",
       "      <td>Zagreb</td>\n",
       "      <td>5.0</td>\n",
       "      <td>-0.945780</td>\n",
       "      <td>0.685041</td>\n",
       "      <td>-2.283081</td>\n",
       "      <td>-0.217968</td>\n",
       "      <td>1.008077</td>\n",
       "      <td>-1.078754</td>\n",
       "      <td>-1.504219</td>\n",
       "      <td>0.12613</td>\n",
       "      <td>...</td>\n",
       "      <td>0</td>\n",
       "      <td>0</td>\n",
       "      <td>0</td>\n",
       "      <td>0</td>\n",
       "      <td>0</td>\n",
       "      <td>0</td>\n",
       "      <td>0</td>\n",
       "      <td>1</td>\n",
       "      <td>0</td>\n",
       "      <td>0</td>\n",
       "    </tr>\n",
       "  </tbody>\n",
       "</table>\n",
       "<p>7 rows × 48 columns</p>\n",
       "</div>"
      ],
      "text/plain": [
       "      location_name  temperature_celsius  wind_kph  wind_degree  pressure_mb  \\\n",
       "16020        Zagreb                  5.0 -0.542414    -1.052661     1.909573   \n",
       "16215        Zagreb                  0.0 -0.265099     1.497228     0.711672   \n",
       "16410        Zagreb                  6.0 -0.542414    -0.863780    -1.684130   \n",
       "16605        Zagreb                  0.0 -0.895359    -0.958221    -1.085180   \n",
       "16800        Zagreb                 -1.0 -0.630650    -1.335982     0.412197   \n",
       "16995        Zagreb                  4.0 -0.945780    -1.147101    -1.384655   \n",
       "17190        Zagreb                  5.0 -0.945780     0.685041    -2.283081   \n",
       "\n",
       "       precip_mm  humidity     cloud  feels_like_celsius  visibility_km  ...  \\\n",
       "16020  -0.217968 -0.124671  1.177310           -1.689214        0.12613  ...   \n",
       "16215  -0.217968  0.663327 -1.078754           -2.085631        0.12613  ...   \n",
       "16410   0.510561  0.121578  0.425288           -1.601121        0.12613  ...   \n",
       "16605  -0.217968 -0.420171 -1.078754           -2.032775        0.12613  ...   \n",
       "16800  -0.217968  0.367828 -1.078754           -2.112059        0.12613  ...   \n",
       "16995  -0.149239  0.417078  1.177310           -1.838971        0.12613  ...   \n",
       "17190  -0.217968  1.008077 -1.078754           -1.504219        0.12613  ...   \n",
       "\n",
       "       wind_direction_WNW  wind_direction_WSW  moon_phase_First Quarter  \\\n",
       "16020                   0                   0                         0   \n",
       "16215                   0                   0                         0   \n",
       "16410                   0                   0                         0   \n",
       "16605                   0                   0                         0   \n",
       "16800                   0                   0                         0   \n",
       "16995                   0                   0                         0   \n",
       "17190                   0                   0                         0   \n",
       "\n",
       "       moon_phase_Full Moon  moon_phase_Last Quarter  moon_phase_New Moon  \\\n",
       "16020                     0                        0                    0   \n",
       "16215                     0                        0                    0   \n",
       "16410                     0                        0                    0   \n",
       "16605                     0                        0                    0   \n",
       "16800                     0                        0                    0   \n",
       "16995                     1                        0                    0   \n",
       "17190                     0                        0                    0   \n",
       "\n",
       "       moon_phase_Waning Crescent  moon_phase_Waning Gibbous  \\\n",
       "16020                           0                          0   \n",
       "16215                           0                          0   \n",
       "16410                           0                          0   \n",
       "16605                           0                          0   \n",
       "16800                           0                          0   \n",
       "16995                           0                          0   \n",
       "17190                           0                          1   \n",
       "\n",
       "       moon_phase_Waxing Crescent  moon_phase_Waxing Gibbous  \n",
       "16020                           0                          1  \n",
       "16215                           0                          1  \n",
       "16410                           0                          1  \n",
       "16605                           0                          1  \n",
       "16800                           0                          1  \n",
       "16995                           0                          0  \n",
       "17190                           0                          0  \n",
       "\n",
       "[7 rows x 48 columns]"
      ]
     },
     "execution_count": 5,
     "metadata": {},
     "output_type": "execute_result"
    }
   ],
   "source": [
    "df[-7:].head(7)"
   ]
  },
  {
   "cell_type": "code",
   "execution_count": 6,
   "metadata": {},
   "outputs": [
    {
     "data": {
      "text/plain": [
       "array([4.5474534, 4.138572 , 3.9207993], dtype=float32)"
      ]
     },
     "execution_count": 6,
     "metadata": {},
     "output_type": "execute_result"
    }
   ],
   "source": [
    "pred = df[-7:].drop('location_name', axis=1)\n",
    "model.predict(pred)"
   ]
  },
  {
   "cell_type": "code",
   "execution_count": 7,
   "metadata": {},
   "outputs": [
    {
     "ename": "KeyboardInterrupt",
     "evalue": "",
     "output_type": "error",
     "traceback": [
      "\u001b[0;31m---------------------------------------------------------------------------\u001b[0m",
      "\u001b[0;31mKeyboardInterrupt\u001b[0m                         Traceback (most recent call last)",
      "Cell \u001b[0;32mIn[7], line 2\u001b[0m\n\u001b[1;32m      1\u001b[0m \u001b[38;5;66;03m# Compute feature importance\u001b[39;00m\n\u001b[0;32m----> 2\u001b[0m feature_importance_values \u001b[38;5;241m=\u001b[39m \u001b[43mmodel\u001b[49m\u001b[38;5;241;43m.\u001b[39;49m\u001b[43mcompute_feature_importance\u001b[49m\u001b[43m(\u001b[49m\u001b[43m)\u001b[49m\n\u001b[1;32m      4\u001b[0m sorted_feature_importance \u001b[38;5;241m=\u001b[39m \u001b[38;5;28msorted\u001b[39m(feature_importance_values, key\u001b[38;5;241m=\u001b[39m\u001b[38;5;28;01mlambda\u001b[39;00m x: x[\u001b[38;5;241m1\u001b[39m], reverse\u001b[38;5;241m=\u001b[39m\u001b[38;5;28;01mTrue\u001b[39;00m)\n\u001b[1;32m      6\u001b[0m \u001b[38;5;66;03m# Iterate over the sorted list and print column name and value\u001b[39;00m\n",
      "File \u001b[0;32m/mnt/c/Users/marke/Desktop/ERASMUS/ASIGNATURAS/IoT/IoT_project/operations/ann.py:176\u001b[0m, in \u001b[0;36mAnn.compute_feature_importance\u001b[0;34m(self)\u001b[0m\n\u001b[1;32m    174\u001b[0m \u001b[38;5;28;01mfor\u001b[39;00m feature_idx, feature_name \u001b[38;5;129;01min\u001b[39;00m \u001b[38;5;28menumerate\u001b[39m(\u001b[38;5;28mself\u001b[39m\u001b[38;5;241m.\u001b[39mdf\u001b[38;5;241m.\u001b[39mdrop(\u001b[38;5;28mself\u001b[39m\u001b[38;5;241m.\u001b[39mtarget_variable, axis\u001b[38;5;241m=\u001b[39m\u001b[38;5;241m1\u001b[39m)\u001b[38;5;241m.\u001b[39mcolumns):\n\u001b[1;32m    175\u001b[0m     loss_with_feature \u001b[38;5;241m=\u001b[39m \u001b[38;5;241m0\u001b[39m\n\u001b[0;32m--> 176\u001b[0m     \u001b[38;5;28;01mfor\u001b[39;00m X_batch, y_batch \u001b[38;5;129;01min\u001b[39;00m dataloader:\n\u001b[1;32m    177\u001b[0m         \u001b[38;5;28mself\u001b[39m\u001b[38;5;241m.\u001b[39moptimizer\u001b[38;5;241m.\u001b[39mzero_grad()\n\u001b[1;32m    178\u001b[0m         predictions \u001b[38;5;241m=\u001b[39m \u001b[38;5;28mself\u001b[39m(X_batch)\n",
      "File \u001b[0;32m~/.local/lib/python3.9/site-packages/torch/utils/data/dataloader.py:643\u001b[0m, in \u001b[0;36m_BaseDataLoaderIter.__next__\u001b[0;34m(self)\u001b[0m\n\u001b[1;32m    639\u001b[0m         warn_msg \u001b[38;5;241m+\u001b[39m\u001b[38;5;241m=\u001b[39m (\u001b[38;5;124m\"\u001b[39m\u001b[38;5;124mFor multiprocessing data-loading, this could be caused by not properly configuring the \u001b[39m\u001b[38;5;124m\"\u001b[39m\n\u001b[1;32m    640\u001b[0m                      \u001b[38;5;124m\"\u001b[39m\u001b[38;5;124mIterableDataset replica at each worker. Please see \u001b[39m\u001b[38;5;124m\"\u001b[39m\n\u001b[1;32m    641\u001b[0m                      \u001b[38;5;124m\"\u001b[39m\u001b[38;5;124mhttps://pytorch.org/docs/stable/data.html#torch.utils.data.IterableDataset for examples.\u001b[39m\u001b[38;5;124m\"\u001b[39m)\n\u001b[1;32m    642\u001b[0m     warnings\u001b[38;5;241m.\u001b[39mwarn(warn_msg)\n\u001b[0;32m--> 643\u001b[0m \u001b[38;5;28;01mreturn\u001b[39;00m data\n",
      "\u001b[0;31mKeyboardInterrupt\u001b[0m: "
     ]
    }
   ],
   "source": [
    "\n",
    "# Compute feature importance\n",
    "feature_importance_values = model.compute_feature_importance()\n",
    "\n",
    "sorted_feature_importance = sorted(feature_importance_values, key=lambda x: x[1], reverse=True)\n",
    "\n",
    "# Iterate over the sorted list and print column name and value\n",
    "for column, value in sorted_feature_importance:\n",
    "    print(f\"{column} --> {value}\")\n"
   ]
  },
  {
   "cell_type": "code",
   "execution_count": null,
   "metadata": {},
   "outputs": [
    {
     "data": {
      "text/plain": [
       "array([14.498802, 13.253254, 12.907271], dtype=float32)"
      ]
     },
     "execution_count": 5,
     "metadata": {},
     "output_type": "execute_result"
    }
   ],
   "source": [
    "model.predict(df[-7:])"
   ]
  },
  {
   "cell_type": "markdown",
   "metadata": {},
   "source": [
    "# Hyperparameter tuning\n"
   ]
  },
  {
   "cell_type": "code",
   "execution_count": 7,
   "metadata": {},
   "outputs": [
    {
     "name": "stdout",
     "output_type": "stream",
     "text": [
      "{'params': {'batch_size': 32, 'dropout': 0.2, 'lr': 0.001, 'lr_schedule': 'step_decay', 'max_gradient_norm': 2, 'optimizer': 'Adam'}, 'num_epochs': 50, 'evaluation_result': 4.224359035491943}\n"
     ]
    }
   ],
   "source": [
    "hyperparameter_grid = {\n",
    "    'lr': [0.001],\n",
    "    'batch_size': [32],\n",
    "    'dropout': [0.2],\n",
    "    'max_gradient_norm': [1,2,3,4],\n",
    "    'lr_schedule': ['constant', 'step_decay', 'exponential_decay'],\n",
    "    'optimizer': ['SGD', 'Adam', 'RMSprop']\n",
    "}\n",
    "num_epochs_list = [50]\n",
    "\n",
    "tuning_results = model.hyperparameter_tuning(hyperparameter_grid, num_epochs_list=num_epochs_list)\n",
    "\n",
    "print (tuning_results)"
   ]
  }
 ],
 "metadata": {
  "kernelspec": {
   "display_name": "Python 3",
   "language": "python",
   "name": "python3"
  },
  "language_info": {
   "codemirror_mode": {
    "name": "ipython",
    "version": 3
   },
   "file_extension": ".py",
   "mimetype": "text/x-python",
   "name": "python",
   "nbconvert_exporter": "python",
   "pygments_lexer": "ipython3",
   "version": "3.9.5"
  }
 },
 "nbformat": 4,
 "nbformat_minor": 2
}
