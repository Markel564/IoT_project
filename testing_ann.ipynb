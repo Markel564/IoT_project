{
 "cells": [
  {
   "cell_type": "code",
   "execution_count": 1,
   "metadata": {},
   "outputs": [],
   "source": [
    "import warnings\n",
    "warnings.filterwarnings('ignore')\n",
    "import pandas as pd\n",
    "\n",
    "from operations import adjust_dataset, split_data, Ann\n"
   ]
  },
  {
   "cell_type": "code",
   "execution_count": 2,
   "metadata": {},
   "outputs": [
    {
     "name": "stdout",
     "output_type": "stream",
     "text": [
      "(18904, 48)\n"
     ]
    }
   ],
   "source": [
    "df = pd.read_csv('docs/data/GlobalWeatherRepository.csv')\n",
    "target_variable = 'temperature_celsius'\n",
    "# target_variable = 'cloud'\n",
    "df = adjust_dataset(df, target_variable=target_variable)\n",
    "\n",
    "print (df.shape)\n",
    "\n",
    "# for temperature in df['temperature_celsius'].unique():\n",
    "#     print (temperature)\n",
    "\n",
    "\n"
   ]
  },
  {
   "cell_type": "code",
   "execution_count": 3,
   "metadata": {},
   "outputs": [],
   "source": [
    "model = Ann(df, target_variable)\n",
    "model.train_model(epochs=50, batch_size=32)"
   ]
  },
  {
   "cell_type": "code",
   "execution_count": 4,
   "metadata": {},
   "outputs": [
    {
     "name": "stdout",
     "output_type": "stream",
     "text": [
      "3.117969036102295\n"
     ]
    }
   ],
   "source": [
    "res = model.evaluate()\n",
    "print (res)"
   ]
  },
  {
   "cell_type": "markdown",
   "metadata": {},
   "source": [
    "# Feature importance"
   ]
  },
  {
   "cell_type": "code",
   "execution_count": null,
   "metadata": {},
   "outputs": [
    {
     "name": "stdout",
     "output_type": "stream",
     "text": [
      "wind_direction_SE --> 2.7557991870708065e-06\n",
      "moon_illumination --> 2.4974428924906533e-06\n",
      "wind_direction_WNW --> 2.4974428924906533e-06\n",
      "moon_phase_Waning Gibbous --> 2.4974428924906533e-06\n",
      "uv_index --> 2.3252055143530015e-06\n",
      "moon_phase_Full Moon --> 2.2390868252841756e-06\n",
      "air_quality_Ozone --> 2.1529681362153497e-06\n",
      "moon_phase_Last Quarter --> 2.1529681362153497e-06\n",
      "air_quality_gb-defra-index --> 2.0668492197728483e-06\n",
      "wind_direction_WSW --> 2.0668492197728483e-06\n",
      "moon_phase_Waxing Crescent --> 2.0668492197728483e-06\n",
      "wind_direction_ESE --> 1.9807305307040224e-06\n",
      "wind_direction_NNE --> 1.8946118416351965e-06\n",
      "moon_phase_Waxing Gibbous --> 1.636255660741881e-06\n",
      "wind_direction_W --> 1.550136971673055e-06\n",
      "precip_mm --> 1.4640182826042292e-06\n",
      "moon_phase_First Quarter --> 1.4640182826042292e-06\n",
      "moon_phase_Waning Crescent --> 1.4640182826042292e-06\n",
      "feels_like_celsius --> 1.3778995935354033e-06\n",
      "air_quality_Carbon_Monoxide --> 1.3778995935354033e-06\n",
      "wind_direction_SSW --> 1.3778995935354033e-06\n",
      "air_quality_Nitrogen_dioxide --> 1.2917807907797396e-06\n",
      "wind_direction_SW --> 1.2917807907797396e-06\n",
      "visibility_km --> 1.1195434126420878e-06\n",
      "air_quality_Sulphur_dioxide --> 1.0334246098864242e-06\n",
      "wind_direction_ENE --> 1.0334246098864242e-06\n",
      "wind_direction_NNW --> 9.473059208175982e-07\n",
      "wind_direction_SSE --> 9.473059208175982e-07\n",
      "moonset --> 8.611872317487723e-07\n",
      "wind_kph --> 7.750684858365275e-07\n",
      "gust_kph --> 7.750684858365275e-07\n",
      "air_quality_PM10 --> 7.750684858365275e-07\n",
      "wind_degree --> 6.889497967677016e-07\n",
      "sunset --> 6.028310508554569e-07\n",
      "wind_direction_E --> 6.028310508554569e-07\n",
      "pressure_mb --> 4.3059361587438616e-07\n",
      "air_quality_PM2.5 --> 4.3059361587438616e-07\n",
      "cloud --> 2.5835615247160604e-07\n",
      "moonrise --> 2.5835615247160604e-07\n",
      "sunrise --> 1.722374491919254e-07\n",
      "location_name --> 8.61187245959627e-08\n",
      "humidity --> 8.61187245959627e-08\n",
      "moon_phase_New Moon --> 8.61187245959627e-08\n",
      "wind_direction_S --> -8.61187245959627e-08\n",
      "wind_direction_N --> -1.722374491919254e-07\n",
      "wind_direction_NE --> -6.028310508554569e-07\n",
      "wind_direction_NW --> -8.611872317487723e-07\n"
     ]
    }
   ],
   "source": [
    "\n",
    "# Compute feature importance\n",
    "feature_importance_values = model.compute_feature_importance()\n",
    "\n",
    "sorted_feature_importance = sorted(feature_importance_values, key=lambda x: x[1], reverse=True)\n",
    "\n",
    "# Iterate over the sorted list and print column name and value\n",
    "for column, value in sorted_feature_importance:\n",
    "    print(f\"{column} --> {value}\")\n"
   ]
  },
  {
   "cell_type": "markdown",
   "metadata": {},
   "source": [
    "# Hyperparameter tuning\n"
   ]
  },
  {
   "cell_type": "code",
   "execution_count": null,
   "metadata": {},
   "outputs": [
    {
     "name": "stdout",
     "output_type": "stream",
     "text": [
      "{'params': {'batch_size': 32, 'dropout': 0.2, 'lr': 0.001, 'lr_schedule': 'step_decay', 'max_gradient_norm': 2, 'optimizer': 'Adam'}, 'num_epochs': 50, 'evaluation_result': 4.224359035491943}\n"
     ]
    }
   ],
   "source": [
    "hyperparameter_grid = {\n",
    "    'lr': [0.001],\n",
    "    'batch_size': [32],\n",
    "    'dropout': [0.2],\n",
    "    'max_gradient_norm': [1,2,3,4],\n",
    "    'lr_schedule': ['constant', 'step_decay', 'exponential_decay'],\n",
    "    'optimizer': ['SGD', 'Adam', 'RMSprop']\n",
    "}\n",
    "num_epochs_list = [50]\n",
    "\n",
    "tuning_results = model.hyperparameter_tuning(hyperparameter_grid, num_epochs_list=num_epochs_list)\n",
    "\n",
    "print (tuning_results)"
   ]
  }
 ],
 "metadata": {
  "kernelspec": {
   "display_name": "Python 3",
   "language": "python",
   "name": "python3"
  },
  "language_info": {
   "codemirror_mode": {
    "name": "ipython",
    "version": 3
   },
   "file_extension": ".py",
   "mimetype": "text/x-python",
   "name": "python",
   "nbconvert_exporter": "python",
   "pygments_lexer": "ipython3",
   "version": "3.9.5"
  }
 },
 "nbformat": 4,
 "nbformat_minor": 2
}
