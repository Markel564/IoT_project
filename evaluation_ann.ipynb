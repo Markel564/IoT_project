{
 "cells": [
  {
   "cell_type": "markdown",
   "metadata": {},
   "source": [
    "# THIS SECTION IS FOR EVALUATING THE MODELS"
   ]
  },
  {
   "cell_type": "code",
   "execution_count": 1,
   "metadata": {},
   "outputs": [],
   "source": [
    "import warnings\n",
    "warnings.filterwarnings('ignore')\n",
    "import pandas as pd\n",
    "import numpy as np\n",
    "\n",
    "\n",
    "from operations import adjust_dataset, split_data, Ann"
   ]
  },
  {
   "cell_type": "code",
   "execution_count": 3,
   "metadata": {},
   "outputs": [
    {
     "name": "stdout",
     "output_type": "stream",
     "text": [
      "(19684, 48)\n"
     ]
    }
   ],
   "source": [
    "\n",
    "df = pd.read_csv('docs/data/GlobalWeatherRepository.csv')\n",
    "\n",
    "\n",
    "\n",
    "df = adjust_dataset(df, 'temperature_celsius')\n",
    "\n",
    "# print unique cities\n",
    "\n",
    "\n",
    "print (df.shape)\n"
   ]
  },
  {
   "cell_type": "code",
   "execution_count": 9,
   "metadata": {},
   "outputs": [
    {
     "name": "stdout",
     "output_type": "stream",
     "text": [
      "Iteration for variable:  temperature_celsius\n",
      "(19684, 41)\n",
      "Iteration for variable:  wind_kph\n",
      "(19684, 41)\n",
      "Iteration for variable:  humidity\n",
      "(19684, 41)\n",
      "Iteration for variable:  pressure_mb\n",
      "(19684, 41)\n",
      "Iteration for variable:  precip_mm\n",
      "(19684, 41)\n",
      "Iteration for variable:  cloud\n",
      "(19684, 41)\n"
     ]
    }
   ],
   "source": [
    "target_variables = ['temperature_celsius', 'wind_kph', 'humidity', 'pressure_mb', 'precip_mm', 'cloud']\n",
    "evals = {}\n",
    "\n",
    "for variable in target_variables:\n",
    "    df = pd.read_csv('docs/data/GlobalWeatherRepository.csv')\n",
    "    indiv_eval = []\n",
    "    print (\"Iteration for variable: \", variable)\n",
    "    print (df.shape)\n",
    "    new_df = adjust_dataset(df, variable)\n",
    "    \n",
    "\n",
    "    model = Ann(new_df, variable)\n",
    "    model.train_model()\n",
    "\n",
    "    for i in range (100):\n",
    "        indiv_eval.append(model.evaluate())\n",
    "\n",
    "    evals[variable] = indiv_eval\n",
    "\n"
   ]
  },
  {
   "cell_type": "code",
   "execution_count": 13,
   "metadata": {},
   "outputs": [
    {
     "name": "stdout",
     "output_type": "stream",
     "text": [
      "temperature_celsius  -->  3.141157236099243\n",
      "wind_kph  -->  7.74172155380249\n",
      "humidity  -->  16.019611358642578\n",
      "pressure_mb  -->  40.275275993347165\n",
      "precip_mm  -->  0.761070709824562\n",
      "cloud  -->  31.802666454315187\n"
     ]
    }
   ],
   "source": [
    "for evaluation in evals.keys(): \n",
    "    print (evaluation, \" --> \", np.mean(evals[evaluation]))"
   ]
  },
  {
   "cell_type": "code",
   "execution_count": 15,
   "metadata": {},
   "outputs": [],
   "source": [
    "# lets open or create a file to append the results\n",
    "from time import gmtime, strftime\n",
    "text_name = strftime(\"%Y-%m-%d_ann\", gmtime())\n",
    "f = open(f\"docs/{text_name}\", \"w\")\n",
    "\n",
    "\n",
    "# we add the lines to the file\n",
    "# we add the date for the results\n",
    "\n",
    "for evaluation in evals.keys():\n",
    "    text = f\"evaluation for {evaluation} --> {np.mean(evals[evaluation])}\"\n",
    "    f.write(text)\n",
    "    f.write(\"\\n\")\n",
    "f.write(\"\\n\")\n",
    "f.close()"
   ]
  }
 ],
 "metadata": {
  "kernelspec": {
   "display_name": "Python 3",
   "language": "python",
   "name": "python3"
  },
  "language_info": {
   "codemirror_mode": {
    "name": "ipython",
    "version": 3
   },
   "file_extension": ".py",
   "mimetype": "text/x-python",
   "name": "python",
   "nbconvert_exporter": "python",
   "pygments_lexer": "ipython3",
   "version": "3.9.5"
  }
 },
 "nbformat": 4,
 "nbformat_minor": 2
}
