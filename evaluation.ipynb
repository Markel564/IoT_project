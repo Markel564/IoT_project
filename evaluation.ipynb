{
 "cells": [
  {
   "cell_type": "markdown",
   "metadata": {},
   "source": [
    "# THIS SECTION IS FOR EVALUATING THE MODELS"
   ]
  },
  {
   "cell_type": "code",
   "execution_count": 1,
   "metadata": {},
   "outputs": [],
   "source": [
    "import warnings\n",
    "warnings.filterwarnings('ignore')\n",
    "import pandas as pd\n",
    "import numpy as np\n",
    "\n",
    "\n",
    "from operations import adjust_dataset, split_data, Ann"
   ]
  },
  {
   "cell_type": "code",
   "execution_count": 5,
   "metadata": {},
   "outputs": [],
   "source": [
    "\n",
    "df = pd.read_csv('docs/data/GlobalWeatherRepository.csv')"
   ]
  },
  {
   "cell_type": "code",
   "execution_count": 6,
   "metadata": {},
   "outputs": [
    {
     "name": "stdout",
     "output_type": "stream",
     "text": [
      "Iteration for variable:  temperature_celsius\n",
      "(18709, 41)\n",
      "End iteration for variable:  temperature_celsius\n",
      "Iteration for variable:  wind_kph\n",
      "(18709, 41)\n",
      "End iteration for variable:  wind_kph\n",
      "Iteration for variable:  humidity\n",
      "(18709, 41)\n",
      "End iteration for variable:  humidity\n",
      "Iteration for variable:  pressure_mb\n",
      "(18709, 41)\n",
      "End iteration for variable:  pressure_mb\n",
      "Iteration for variable:  precip_mm\n",
      "(18709, 41)\n",
      "End iteration for variable:  precip_mm\n",
      "Iteration for variable:  cloud\n",
      "(18709, 41)\n",
      "End iteration for variable:  cloud\n"
     ]
    }
   ],
   "source": [
    "target_variables = ['temperature_celsius', 'wind_kph', 'humidity', 'pressure_mb', 'precip_mm', 'cloud']\n",
    "evals = {}\n",
    "\n",
    "for variable in target_variables:\n",
    "    df = pd.read_csv('docs/data/GlobalWeatherRepository.csv')\n",
    "    print (\"Iteration for variable: \", variable)\n",
    "    print (df.shape)\n",
    "    new_df = adjust_dataset(df, variable)\n",
    "    \n",
    "\n",
    "    model = Ann(new_df, variable)\n",
    "    model.train_model()\n",
    "\n",
    "    evals[variable] = model.evaluate()\n",
    "    print (\"End iteration for variable: \", variable)\n"
   ]
  },
  {
   "cell_type": "code",
   "execution_count": 7,
   "metadata": {},
   "outputs": [
    {
     "name": "stdout",
     "output_type": "stream",
     "text": [
      "Variable: temperature_celsius --> 4.191832065582275\n",
      "Variable: wind_kph --> 7.594795227050781\n",
      "Variable: humidity --> 21.815673828125\n",
      "Variable: pressure_mb --> 521.0795288085938\n",
      "Variable: precip_mm --> 0.7620481252670288\n",
      "Variable: cloud --> 31.80155372619629\n"
     ]
    }
   ],
   "source": [
    "\n",
    "for var in evals.keys():\n",
    "\n",
    "    print (f\"Variable: {var} --> {evals[var]}\")"
   ]
  }
 ],
 "metadata": {
  "kernelspec": {
   "display_name": "Python 3",
   "language": "python",
   "name": "python3"
  },
  "language_info": {
   "codemirror_mode": {
    "name": "ipython",
    "version": 3
   },
   "file_extension": ".py",
   "mimetype": "text/x-python",
   "name": "python",
   "nbconvert_exporter": "python",
   "pygments_lexer": "ipython3",
   "version": "3.9.5"
  }
 },
 "nbformat": 4,
 "nbformat_minor": 2
}
