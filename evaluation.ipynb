{
 "cells": [
  {
   "cell_type": "markdown",
   "metadata": {},
   "source": [
    "# THIS SECTION IS FOR EVALUATING THE MODELS"
   ]
  },
  {
   "cell_type": "code",
   "execution_count": 1,
   "metadata": {},
   "outputs": [],
   "source": [
    "import warnings\n",
    "warnings.filterwarnings('ignore')\n",
    "import pandas as pd\n",
    "import numpy as np\n",
    "\n",
    "\n",
    "from operations import adjust_dataset, split_data, Ann"
   ]
  },
  {
   "cell_type": "code",
   "execution_count": 2,
   "metadata": {},
   "outputs": [],
   "source": [
    "\n",
    "df = pd.read_csv('docs/data/GlobalWeatherRepository.csv')\n"
   ]
  },
  {
   "cell_type": "code",
   "execution_count": 9,
   "metadata": {},
   "outputs": [],
   "source": [
    "# Firstly, we are going to test the temperature prediction in 10 cities\n",
    "# Then, we will test all the target variables in 3 cities\n",
    "\n",
    "\n",
    "cities = ['Madrid', 'Budapest', 'Cairo', 'Helsinki', 'Jerusalem', 'London', 'Washington Park', 'Ottawa', 'Tokyo', 'Santiago']\n",
    "target = 'temperature_celsius'\n",
    "\n",
    "\n",
    "evaluations = {}\n",
    "\n",
    "for i, city in enumerate(cities):\n",
    "\n",
    "    new_df = adjust_dataset(df, city, target)\n",
    "    # print (f\"City {city} = {new_df.shape}\")\n",
    "    model = Ann(new_df, target)\n",
    "    \n",
    "    model.train_model(epochs=100, batch_size=32)\n",
    "\n",
    "    res = model.evaluate()\n",
    "    evaluations[city] = res\n",
    "\n",
    "\n"
   ]
  },
  {
   "cell_type": "code",
   "execution_count": 10,
   "metadata": {},
   "outputs": [
    {
     "name": "stdout",
     "output_type": "stream",
     "text": [
      "Mean of the evaluations\n",
      "8.056123638153077\n"
     ]
    }
   ],
   "source": [
    "# lets print the mean\n",
    "print (\"Mean of the evaluations\")\n",
    "print (np.mean(list(evaluations.values()), axis=0))"
   ]
  },
  {
   "cell_type": "code",
   "execution_count": 12,
   "metadata": {},
   "outputs": [
    {
     "name": "stdout",
     "output_type": "stream",
     "text": [
      "{'Madrid': array([13.987301, 13.936256, 14.533689], dtype=float32), 'Budapest': array([9.3273735, 8.231354 , 7.6655865], dtype=float32), 'Cairo': array([38.080845, 35.345486, 39.97417 ], dtype=float32), 'Helsinki': array([5.841879 , 3.3222919, 3.2686172], dtype=float32), 'Jerusalem': array([23.58944 , 23.206072, 22.980335], dtype=float32), 'London': array([15.6933155, 18.055243 , 21.481588 ], dtype=float32), 'Washington Park': array([6.4592943, 5.522992 , 5.390567 ], dtype=float32), 'Ottawa': array([10.810223, 12.51846 , 13.695186], dtype=float32), 'Tokyo': array([17.590729, 18.802351, 20.553421], dtype=float32), 'Santiago': array([25.785864, 24.741901, 22.603598], dtype=float32)}\n"
     ]
    }
   ],
   "source": [
    "# lets predict the temperature for each city\n",
    "\n",
    "for i, city in enumerate(cities):\n",
    "    new_df = adjust_dataset(df, city, target)\n",
    "    \n",
    "    new_df = new_df[:-7]\n",
    "    model = Ann(new_df, target)\n",
    "    \n",
    "    model.train_model(epochs=100, batch_size=32)\n",
    "\n",
    "    res = model.predict(new_df[-7:])\n",
    "    evaluations[city] = res\n",
    "\n",
    "print (evaluations)"
   ]
  },
  {
   "cell_type": "code",
   "execution_count": 13,
   "metadata": {},
   "outputs": [
    {
     "name": "stdout",
     "output_type": "stream",
     "text": [
      "{'Madrid': array([13.987301, 13.936256, 14.533689], dtype=float32), 'Budapest': array([9.3273735, 8.231354 , 7.6655865], dtype=float32), 'Cairo': array([38.080845, 35.345486, 39.97417 ], dtype=float32), 'Helsinki': array([5.841879 , 3.3222919, 3.2686172], dtype=float32), 'Jerusalem': array([23.58944 , 23.206072, 22.980335], dtype=float32), 'London': array([15.6933155, 18.055243 , 21.481588 ], dtype=float32), 'Washington Park': array([6.4592943, 5.522992 , 5.390567 ], dtype=float32), 'Ottawa': array([10.810223, 12.51846 , 13.695186], dtype=float32), 'Tokyo': array([17.590729, 18.802351, 20.553421], dtype=float32), 'Santiago': array([25.785864, 24.741901, 22.603598], dtype=float32)}\n",
      "City Madrid\n",
      "Real values: [13.  13.   7.6]\n",
      "Predictions: [13.987301 13.936256 14.533689]\n",
      "-----------------------------\n",
      "City Budapest\n",
      "Real values: [-3.   0.   3.2]\n",
      "Predictions: [9.3273735 8.231354  7.6655865]\n",
      "-----------------------------\n",
      "City Cairo\n",
      "Real values: [19. 20. 19.]\n",
      "Predictions: [38.080845 35.345486 39.97417 ]\n",
      "-----------------------------\n",
      "City Helsinki\n",
      "Real values: [-3. -4. -7.]\n",
      "Predictions: [5.841879  3.3222919 3.2686172]\n",
      "-----------------------------\n",
      "City Jerusalem\n",
      "Real values: [16.  17.  15.6]\n",
      "Predictions: [23.58944  23.206072 22.980335]\n",
      "-----------------------------\n",
      "City London\n",
      "Real values: [1.  1.  1.5]\n",
      "Predictions: [15.6933155 18.055243  21.481588 ]\n",
      "-----------------------------\n",
      "City Washington Park\n",
      "Real values: [-0.6 -0.6 -0.6]\n",
      "Predictions: [6.4592943 5.522992  5.390567 ]\n",
      "-----------------------------\n",
      "City Ottawa\n",
      "Real values: [1.  6.  4.8]\n",
      "Predictions: [10.810223 12.51846  13.695186]\n",
      "-----------------------------\n",
      "City Tokyo\n",
      "Real values: [10.   8.   8.4]\n",
      "Predictions: [17.590729 18.802351 20.553421]\n",
      "-----------------------------\n",
      "City Santiago\n",
      "Real values: [29. 27. 24.]\n",
      "Predictions: [25.785864 24.741901 22.603598]\n",
      "-----------------------------\n"
     ]
    }
   ],
   "source": [
    "print (evaluations)\n",
    "\n",
    "# lets print the previous temperature (last 3 days) for each city\n",
    "temps = []\n",
    "for i, city in enumerate(cities):\n",
    "\n",
    "    new_df = adjust_dataset(df, city, target)\n",
    "   \n",
    "    temps.append(new_df[-3:]['temperature_celsius'].values)\n",
    "\n",
    "\n",
    "# lets compare the predictions with the real values\n",
    "\n",
    "for i, city in enumerate(cities):\n",
    "    print (f\"City {city}\")\n",
    "    print (f\"Real values: {temps[i]}\")\n",
    "    print (f\"Predictions: {evaluations[city]}\")\n",
    "    print (\"-----------------------------\")"
   ]
  },
  {
   "cell_type": "code",
   "execution_count": 24,
   "metadata": {},
   "outputs": [
    {
     "name": "stdout",
     "output_type": "stream",
     "text": [
      "               country     location_name  latitude  longitude  \\\n",
      "0          Afghanistan             Kabul     34.52      69.18   \n",
      "1              Albania            Tirana     41.33      19.82   \n",
      "2              Algeria           Algiers     36.76       3.05   \n",
      "3              Andorra  Andorra La Vella     42.50       1.52   \n",
      "4               Angola            Luanda     -8.84      13.23   \n",
      "5  Antigua and Barbuda      Saint John's     17.12     -61.85   \n",
      "6            Argentina      Buenos Aires    -34.59     -58.67   \n",
      "7              Armenia           Yerevan     40.18      44.51   \n",
      "8            Australia          Canberra    -35.28     149.22   \n",
      "9              Austria            Vienna     48.20      16.37   \n",
      "\n",
      "                         timezone  last_updated_epoch      last_updated  \\\n",
      "0                      Asia/Kabul          1693301400  2023-08-29 14:00   \n",
      "1                   Europe/Tirane          1693301400  2023-08-29 11:30   \n",
      "2                  Africa/Algiers          1693301400  2023-08-29 10:30   \n",
      "3                  Europe/Andorra          1693301400  2023-08-29 11:30   \n",
      "4                   Africa/Luanda          1693301400  2023-08-29 10:30   \n",
      "5                 America/Antigua          1693301400  2023-08-29 05:30   \n",
      "6  America/Argentina/Buenos_Aires          1693301400  2023-08-29 06:30   \n",
      "7                    Asia/Yerevan          1693301400  2023-08-29 13:30   \n",
      "8                Australia/Sydney          1693301400  2023-08-29 19:30   \n",
      "9                   Europe/Vienna          1693301400  2023-08-29 11:30   \n",
      "\n",
      "   temperature_celsius  temperature_fahrenheit condition_text  ...  \\\n",
      "0                 28.8                    83.8          Sunny  ...   \n",
      "1                 27.0                    80.6  Partly cloudy  ...   \n",
      "2                 28.0                    82.4  Partly cloudy  ...   \n",
      "3                 10.2                    50.4          Sunny  ...   \n",
      "4                 25.0                    77.0  Partly cloudy  ...   \n",
      "5                 29.0                    84.2     Light rain  ...   \n",
      "6                  9.0                    48.2          Clear  ...   \n",
      "7                 31.0                    87.8  Partly cloudy  ...   \n",
      "8                 13.0                    55.4          Clear  ...   \n",
      "9                 16.0                    60.8     Light rain  ...   \n",
      "\n",
      "   air_quality_PM2.5  air_quality_PM10  air_quality_us-epa-index  \\\n",
      "0                7.9              11.1                       1.0   \n",
      "1               28.2              29.6                       2.0   \n",
      "2                6.4               7.9                       1.0   \n",
      "3                0.5               0.8                       1.0   \n",
      "4              139.6             203.3                       4.0   \n",
      "5                0.8               1.9                       1.0   \n",
      "6                2.1               3.5                       1.0   \n",
      "7                5.0               6.2                       1.0   \n",
      "8                4.0               5.8                       1.0   \n",
      "9               13.1              14.9                       1.0   \n",
      "\n",
      "  air_quality_gb-defra-index   sunrise    sunset  moonrise   moonset  \\\n",
      "0                        1.0  05:24 AM  06:24 PM  05:39 PM  02:48 AM   \n",
      "1                        3.0  06:04 AM  07:19 PM  06:50 PM  03:25 AM   \n",
      "2                        1.0  06:16 AM  07:21 PM  06:46 PM  03:50 AM   \n",
      "3                        1.0  07:16 AM  08:34 PM  08:08 PM  04:38 AM   \n",
      "4                       10.0  06:11 AM  06:06 PM  04:43 PM  04:41 AM   \n",
      "5                        1.0  05:53 AM  06:23 PM  05:36 PM  04:09 AM   \n",
      "6                        1.0  07:18 AM  06:34 PM  04:57 PM  06:32 AM   \n",
      "7                        1.0  06:26 AM  07:39 PM  07:05 PM  03:45 AM   \n",
      "8                        1.0  06:27 AM  05:42 PM  03:19 PM  05:17 AM   \n",
      "9                        2.0  06:07 AM  07:43 PM  07:27 PM  03:11 AM   \n",
      "\n",
      "       moon_phase  moon_illumination  \n",
      "0  Waxing Gibbous               93.0  \n",
      "1  Waxing Gibbous               93.0  \n",
      "2  Waxing Gibbous               93.0  \n",
      "3  Waxing Gibbous               93.0  \n",
      "4  Waxing Gibbous               93.0  \n",
      "5  Waxing Gibbous               93.0  \n",
      "6  Waxing Gibbous               93.0  \n",
      "7  Waxing Gibbous               93.0  \n",
      "8  Waxing Gibbous               93.0  \n",
      "9  Waxing Gibbous               93.0  \n",
      "\n",
      "[10 rows x 41 columns]\n"
     ]
    }
   ],
   "source": [
    "print (df.head(10))"
   ]
  }
 ],
 "metadata": {
  "kernelspec": {
   "display_name": "Python 3",
   "language": "python",
   "name": "python3"
  },
  "language_info": {
   "codemirror_mode": {
    "name": "ipython",
    "version": 3
   },
   "file_extension": ".py",
   "mimetype": "text/x-python",
   "name": "python",
   "nbconvert_exporter": "python",
   "pygments_lexer": "ipython3",
   "version": "3.9.5"
  }
 },
 "nbformat": 4,
 "nbformat_minor": 2
}
