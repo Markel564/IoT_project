{
 "cells": [
  {
   "cell_type": "markdown",
   "metadata": {},
   "source": [
    "# THIS SECTION IS FOR EVALUATING THE MODELS"
   ]
  },
  {
   "cell_type": "code",
   "execution_count": 10,
   "metadata": {},
   "outputs": [],
   "source": [
    "import warnings\n",
    "warnings.filterwarnings('ignore')\n",
    "import pandas as pd\n",
    "import numpy as np\n",
    "\n",
    "\n",
    "from operations import adjust_dataset, split_data, Ann"
   ]
  },
  {
   "cell_type": "code",
   "execution_count": 17,
   "metadata": {},
   "outputs": [],
   "source": [
    "\n",
    "df = pd.read_csv('docs/data/GlobalWeatherRepository.csv')\n"
   ]
  },
  {
   "cell_type": "code",
   "execution_count": 12,
   "metadata": {},
   "outputs": [],
   "source": [
    "# Firstly, we are going to test the temperature prediction in 10 cities\n",
    "# Then, we will test all the target variables in 3 cities\n",
    "\n",
    "\n",
    "cities = ['Madrid', 'Budapest', 'Cairo', 'Helsinki', 'Jerusalem', 'London', 'Washington Park', 'Ottawa', 'Tokyo', 'Santiago']\n",
    "target = 'temperature_celsius'\n",
    "\n",
    "\n",
    "evaluations = {}\n",
    "\n",
    "for i, city in enumerate(cities):\n",
    "\n",
    "    new_df = adjust_dataset(df, city, target)\n",
    "    # print (f\"City {city} = {new_df.shape}\")\n",
    "    model = Ann(new_df, target)\n",
    "    \n",
    "    model.train_model(epochs=100, batch_size=32)\n",
    "\n",
    "    res = model.evaluate()\n",
    "    evaluations[city] = res\n",
    "\n",
    "\n"
   ]
  },
  {
   "cell_type": "code",
   "execution_count": 13,
   "metadata": {},
   "outputs": [
    {
     "name": "stdout",
     "output_type": "stream",
     "text": [
      "Mean of the evaluations\n",
      "8.056123638153077\n"
     ]
    }
   ],
   "source": [
    "# lets print the mean\n",
    "print (\"Mean of the evaluations\")\n",
    "print (np.mean(list(evaluations.values()), axis=0))"
   ]
  },
  {
   "cell_type": "code",
   "execution_count": 21,
   "metadata": {},
   "outputs": [
    {
     "name": "stdout",
     "output_type": "stream",
     "text": [
      "{'Madrid': array([20.758867, 17.687931, 15.566295], dtype=float32), 'Budapest': array([4.602877, 8.495554, 9.51111 ], dtype=float32), 'Cairo': array([18.886553, 18.4927  , 14.392932], dtype=float32), 'Helsinki': array([ 1.2649225, -1.2448946,  3.2263606], dtype=float32), 'Jerusalem': array([16.295702, 15.678384, 15.457194], dtype=float32), 'London': array([14.654957, 14.681343, 15.544037], dtype=float32), 'Washington Park': array([14.329219, 14.621141, 13.126675], dtype=float32), 'Ottawa': array([11.433644, 12.351293, 13.555915], dtype=float32), 'Tokyo': array([17.240814, 20.431355, 23.062902], dtype=float32), 'Santiago': array([23.03909 , 23.533966, 24.30692 ], dtype=float32)}\n"
     ]
    }
   ],
   "source": [
    "# lets predict the temperature for each city\n",
    "\n",
    "for i, city in enumerate(cities):\n",
    "    new_df = adjust_dataset(df, city, target)\n",
    "    \n",
    "    new_df = new_df[:-7]\n",
    "    model = Ann(new_df, target)\n",
    "    \n",
    "    model.train_model(epochs=100, batch_size=32)\n",
    "\n",
    "    res = model.predict(new_df[-7:])\n",
    "    evaluations[city] = res\n",
    "\n"
   ]
  },
  {
   "cell_type": "code",
   "execution_count": 23,
   "metadata": {},
   "outputs": [
    {
     "name": "stdout",
     "output_type": "stream",
     "text": [
      "{'Madrid': array([20.758867, 17.687931, 15.566295], dtype=float32), 'Budapest': array([4.602877, 8.495554, 9.51111 ], dtype=float32), 'Cairo': array([18.886553, 18.4927  , 14.392932], dtype=float32), 'Helsinki': array([ 1.2649225, -1.2448946,  3.2263606], dtype=float32), 'Jerusalem': array([16.295702, 15.678384, 15.457194], dtype=float32), 'London': array([14.654957, 14.681343, 15.544037], dtype=float32), 'Washington Park': array([14.329219, 14.621141, 13.126675], dtype=float32), 'Ottawa': array([11.433644, 12.351293, 13.555915], dtype=float32), 'Tokyo': array([17.240814, 20.431355, 23.062902], dtype=float32), 'Santiago': array([23.03909 , 23.533966, 24.30692 ], dtype=float32)}\n",
      "City Madrid\n",
      "Real values: [13.  13.   7.6]\n",
      "Predictions: [20.758867 17.687931 15.566295]\n",
      "-----------------------------\n",
      "City Budapest\n",
      "Real values: [-3.   0.   3.2]\n",
      "Predictions: [4.602877 8.495554 9.51111 ]\n",
      "-----------------------------\n",
      "City Cairo\n",
      "Real values: [19. 20. 19.]\n",
      "Predictions: [18.886553 18.4927   14.392932]\n",
      "-----------------------------\n",
      "City Helsinki\n",
      "Real values: [-3. -4. -7.]\n",
      "Predictions: [ 1.2649225 -1.2448946  3.2263606]\n",
      "-----------------------------\n",
      "City Jerusalem\n",
      "Real values: [16.  17.  15.6]\n",
      "Predictions: [16.295702 15.678384 15.457194]\n",
      "-----------------------------\n",
      "City London\n",
      "Real values: [1.  1.  1.5]\n",
      "Predictions: [14.654957 14.681343 15.544037]\n",
      "-----------------------------\n",
      "City Washington Park\n",
      "Real values: [-0.6 -0.6 -0.6]\n",
      "Predictions: [14.329219 14.621141 13.126675]\n",
      "-----------------------------\n",
      "City Ottawa\n",
      "Real values: [1.  6.  4.8]\n",
      "Predictions: [11.433644 12.351293 13.555915]\n",
      "-----------------------------\n",
      "City Tokyo\n",
      "Real values: [10.   8.   8.4]\n",
      "Predictions: [17.240814 20.431355 23.062902]\n",
      "-----------------------------\n",
      "City Santiago\n",
      "Real values: [29. 27. 24.]\n",
      "Predictions: [23.03909  23.533966 24.30692 ]\n",
      "-----------------------------\n"
     ]
    }
   ],
   "source": [
    "print (evaluations)\n",
    "\n",
    "# lets print the previous temperature (last 3 days) for each city\n",
    "temps = []\n",
    "for i, city in enumerate(cities):\n",
    "\n",
    "    new_df = adjust_dataset(df, city, target)\n",
    "   \n",
    "    temps.append(new_df[-3:]['temperature_celsius'].values)\n",
    "\n",
    "\n",
    "# lets compare the predictions with the real values\n",
    "\n",
    "for i, city in enumerate(cities):\n",
    "    print (f\"City {city}\")\n",
    "    print (f\"Real values: {temps[i]}\")\n",
    "    print (f\"Predictions: {evaluations[city]}\")\n",
    "    print (\"-----------------------------\")"
   ]
  }
 ],
 "metadata": {
  "kernelspec": {
   "display_name": "Python 3",
   "language": "python",
   "name": "python3"
  },
  "language_info": {
   "codemirror_mode": {
    "name": "ipython",
    "version": 3
   },
   "file_extension": ".py",
   "mimetype": "text/x-python",
   "name": "python",
   "nbconvert_exporter": "python",
   "pygments_lexer": "ipython3",
   "version": "3.9.5"
  }
 },
 "nbformat": 4,
 "nbformat_minor": 2
}
