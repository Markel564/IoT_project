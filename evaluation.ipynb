{
 "cells": [
  {
   "cell_type": "markdown",
   "metadata": {},
   "source": [
    "# THIS SECTION IS FOR EVALUATING THE MODELS"
   ]
  },
  {
   "cell_type": "code",
   "execution_count": 11,
   "metadata": {},
   "outputs": [],
   "source": [
    "import warnings\n",
    "warnings.filterwarnings('ignore')\n",
    "import pandas as pd\n",
    "import numpy as np\n",
    "\n",
    "\n",
    "from operations import adjust_dataset, split_data, Ann"
   ]
  },
  {
   "cell_type": "code",
   "execution_count": 12,
   "metadata": {},
   "outputs": [],
   "source": [
    "\n",
    "df = pd.read_csv('docs/data/GlobalWeatherRepository.csv')"
   ]
  },
  {
   "cell_type": "code",
   "execution_count": 13,
   "metadata": {},
   "outputs": [
    {
     "name": "stdout",
     "output_type": "stream",
     "text": [
      "Iteration for variable:  temperature_celsius\n",
      "(18904, 41)\n",
      "Iteration for variable:  wind_kph\n",
      "(18904, 41)\n",
      "Iteration for variable:  humidity\n",
      "(18904, 41)\n",
      "Iteration for variable:  pressure_mb\n",
      "(18904, 41)\n",
      "Iteration for variable:  precip_mm\n",
      "(18904, 41)\n",
      "Iteration for variable:  cloud\n",
      "(18904, 41)\n"
     ]
    }
   ],
   "source": [
    "target_variables = ['temperature_celsius', 'wind_kph', 'humidity', 'pressure_mb', 'precip_mm', 'cloud']\n",
    "evals = {}\n",
    "\n",
    "for variable in target_variables:\n",
    "    df = pd.read_csv('docs/data/GlobalWeatherRepository.csv')\n",
    "    indiv_eval = []\n",
    "    print (\"Iteration for variable: \", variable)\n",
    "    print (df.shape)\n",
    "    new_df = adjust_dataset(df, variable)\n",
    "    \n",
    "\n",
    "    model = Ann(new_df, variable)\n",
    "    model.train_model()\n",
    "\n",
    "    for i in range (100):\n",
    "        indiv_eval.append(model.evaluate())\n",
    "\n",
    "    evals[variable] = indiv_eval\n",
    "\n"
   ]
  },
  {
   "cell_type": "code",
   "execution_count": 14,
   "metadata": {},
   "outputs": [
    {
     "name": "stdout",
     "output_type": "stream",
     "text": [
      "temperature_celsius  -->  3.114275324344635\n",
      "wind_kph  -->  7.780872783660889\n",
      "humidity  -->  16.613811378479003\n",
      "pressure_mb  -->  76.69339714050292\n",
      "precip_mm  -->  0.781116424202919\n",
      "cloud  -->  31.90980894088745\n"
     ]
    }
   ],
   "source": [
    "for evaluation in evals.keys(): \n",
    "    print (evaluation, \" --> \", np.mean(evals[evaluation]))"
   ]
  },
  {
   "cell_type": "code",
   "execution_count": 15,
   "metadata": {},
   "outputs": [
    {
     "name": "stdout",
     "output_type": "stream",
     "text": [
      "count    18904.000000\n",
      "mean        20.458168\n",
      "std          8.995666\n",
      "min        -31.000000\n",
      "25%         15.000000\n",
      "50%         22.200000\n",
      "75%         27.000000\n",
      "max         45.400000\n",
      "Name: temperature_celsius, dtype: float64\n",
      "count    18904.000000\n",
      "mean        11.108607\n",
      "std          7.933910\n",
      "min          3.600000\n",
      "25%          5.400000\n",
      "50%          9.000000\n",
      "75%         15.100000\n",
      "max        141.100000\n",
      "Name: wind_kph, dtype: float64\n",
      "count    18904.000000\n",
      "mean        72.539145\n",
      "std         20.315067\n",
      "min          4.000000\n",
      "25%         62.000000\n",
      "50%         77.000000\n",
      "75%         88.000000\n",
      "max        100.000000\n",
      "Name: humidity, dtype: float64\n",
      "count    18904.000000\n",
      "mean      1013.263225\n",
      "std          6.673967\n",
      "min        964.000000\n",
      "25%       1010.000000\n",
      "50%       1013.000000\n",
      "75%       1017.000000\n",
      "max       1053.000000\n",
      "Name: pressure_mb, dtype: float64\n",
      "count    18904.000000\n",
      "mean         0.158580\n",
      "std          0.724988\n",
      "min          0.000000\n",
      "25%          0.000000\n",
      "50%          0.000000\n",
      "75%          0.020000\n",
      "max         31.000000\n",
      "Name: precip_mm, dtype: float64\n",
      "count    18904.000000\n",
      "mean        35.966039\n",
      "std         33.276868\n",
      "min          0.000000\n",
      "25%          0.000000\n",
      "50%         25.000000\n",
      "75%         75.000000\n",
      "max        100.000000\n",
      "Name: cloud, dtype: float64\n"
     ]
    }
   ],
   "source": [
    "df = pd.read_csv('docs/data/GlobalWeatherRepository.csv')\n",
    "# print the unique values precip_mm\n",
    "\n",
    "\n",
    "for variable in target_variables:\n",
    "    print (df[variable].describe())\n"
   ]
  },
  {
   "cell_type": "code",
   "execution_count": 16,
   "metadata": {},
   "outputs": [],
   "source": [
    "# lets open or create a file to append the results\n",
    "from time import gmtime, strftime\n",
    "text_name = strftime(\"%Y-%m-%d\", gmtime())\n",
    "f = open(f\"docs/{text_name}\", \"w\")\n",
    "\n",
    "\n",
    "# we add the lines to the file\n",
    "# we add the date for the results\n",
    "\n",
    "for evaluation in evals.keys():\n",
    "    text = f\"evaluation for {evaluation} --> {np.mean(evals[evaluation])}\"\n",
    "    f.write(text)\n",
    "    f.write(\"\\n\")\n",
    "f.write(\"\\n\")\n",
    "f.close()"
   ]
  }
 ],
 "metadata": {
  "kernelspec": {
   "display_name": "Python 3",
   "language": "python",
   "name": "python3"
  },
  "language_info": {
   "codemirror_mode": {
    "name": "ipython",
    "version": 3
   },
   "file_extension": ".py",
   "mimetype": "text/x-python",
   "name": "python",
   "nbconvert_exporter": "python",
   "pygments_lexer": "ipython3",
   "version": "3.9.5"
  }
 },
 "nbformat": 4,
 "nbformat_minor": 2
}
