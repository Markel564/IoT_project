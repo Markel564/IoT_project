{
 "cells": [
  {
   "cell_type": "markdown",
   "metadata": {},
   "source": [
    "# THIS SECTION IS FOR EVALUATING THE MODELS"
   ]
  },
  {
   "cell_type": "code",
   "execution_count": 1,
   "metadata": {},
   "outputs": [],
   "source": [
    "import warnings\n",
    "warnings.filterwarnings('ignore')\n",
    "import pandas as pd\n",
    "import numpy as np\n",
    "import sys\n",
    "sys.path.insert(0, '../')\n",
    "from operations import adjust_dataset, Ann"
   ]
  },
  {
   "cell_type": "code",
   "execution_count": 2,
   "metadata": {},
   "outputs": [
    {
     "name": "stdout",
     "output_type": "stream",
     "text": [
      "(22046, 24)\n"
     ]
    }
   ],
   "source": [
    "# we get the dataset\n",
    "df = pd.read_csv('../docs/data/GlobalWeatherRepository.csv')\n",
    "\n",
    "# we adjust the dataset\n",
    "df = adjust_dataset(df, 'temperature_celsius')\n",
    "\n",
    "# print the shape of the dataset\n",
    "print (df.shape)\n"
   ]
  },
  {
   "cell_type": "code",
   "execution_count": 3,
   "metadata": {},
   "outputs": [
    {
     "name": "stdout",
     "output_type": "stream",
     "text": [
      "Iteration for variable:  temperature_celsius\n",
      "(22047, 41)\n",
      "Iteration for variable:  wind_kph\n",
      "(22047, 41)\n",
      "Iteration for variable:  humidity\n",
      "(22047, 41)\n",
      "Iteration for variable:  precip_mm\n",
      "(22047, 41)\n",
      "Iteration for variable:  cloud\n",
      "(22047, 41)\n"
     ]
    }
   ],
   "source": [
    "target_variables = ['temperature_celsius', 'wind_kph', 'humidity', 'precip_mm', 'cloud']\n",
    "evals = {}\n",
    "\n",
    "for variable in target_variables: # for each variable we want to predict\n",
    "    df = pd.read_csv('../docs/data/GlobalWeatherRepository.csv')\n",
    "    indiv_eval = []\n",
    "    print (\"Iteration for variable: \", variable)\n",
    "    \n",
    "    new_df = adjust_dataset(df, variable) # we adjust the dataset\n",
    "    print (new_df.shape)\n",
    "    # we create the ann and train it\n",
    "    model = Ann(new_df, variable)\n",
    "    model.train_model()\n",
    "\n",
    "    # Save the model\n",
    "    # model.save_model(f'../models/{variable}_ann_model.pth')\n",
    "\n",
    "    # we evaluate the model 100 times for a better estimation \n",
    "    for i in range (100):\n",
    "        indiv_eval.append(model.evaluate())\n",
    "\n",
    "    evals[variable] = indiv_eval\n",
    "\n"
   ]
  },
  {
   "cell_type": "code",
   "execution_count": 7,
   "metadata": {},
   "outputs": [
    {
     "name": "stdout",
     "output_type": "stream",
     "text": [
      "temperature_celsius  -->  3.263467106819153\n",
      "wind_kph  -->  7.614373025894165\n",
      "humidity  -->  16.157500476837157\n",
      "precip_mm  -->  0.7287653839588165\n",
      "cloud  -->  31.673717155456544\n"
     ]
    }
   ],
   "source": [
    "for evaluation in evals.keys(): \n",
    "    print (evaluation, \" --> \", np.mean(evals[evaluation]))"
   ]
  },
  {
   "cell_type": "code",
   "execution_count": 5,
   "metadata": {},
   "outputs": [],
   "source": [
    "# lets open or create a file to append the results\n",
    "from time import gmtime, strftime\n",
    "text_name = strftime(\"%Y-%m-%d_ann\", gmtime())\n",
    "# the file is created in the docs folder\n",
    "f = open(f\"../docs/eval_results/{text_name}\", \"w\")\n",
    "\n",
    "\n",
    "# we add the lines to the file\n",
    "# we add the date for the results\n",
    "\n",
    "for evaluation in evals.keys():\n",
    "    # we add the mean of the evaluations\n",
    "    text = f\"evaluation for {evaluation} --> {np.mean(evals[evaluation])}\"\n",
    "    f.write(text)\n",
    "    f.write(\"\\n\")\n",
    "f.write(\"\\n\")\n",
    "f.close()"
   ]
  }
 ],
 "metadata": {
  "kernelspec": {
   "display_name": "Python 3",
   "language": "python",
   "name": "python3"
  },
  "language_info": {
   "codemirror_mode": {
    "name": "ipython",
    "version": 3
   },
   "file_extension": ".py",
   "mimetype": "text/x-python",
   "name": "python",
   "nbconvert_exporter": "python",
   "pygments_lexer": "ipython3",
   "version": "3.9.5"
  }
 },
 "nbformat": 4,
 "nbformat_minor": 2
}
