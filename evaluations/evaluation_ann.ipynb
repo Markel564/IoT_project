{
 "cells": [
  {
   "cell_type": "markdown",
   "metadata": {},
   "source": [
    "# THIS SECTION IS FOR EVALUATING THE MODELS"
   ]
  },
  {
   "cell_type": "code",
   "execution_count": 5,
   "metadata": {},
   "outputs": [],
   "source": [
    "import warnings\n",
    "warnings.filterwarnings('ignore')\n",
    "import pandas as pd\n",
    "import numpy as np\n",
    "import sys\n",
    "sys.path.insert(0, '../')\n",
    "from operations import adjust_dataset, split_data, Ann"
   ]
  },
  {
   "cell_type": "code",
   "execution_count": 6,
   "metadata": {},
   "outputs": [
    {
     "name": "stdout",
     "output_type": "stream",
     "text": [
      "(19684, 48)\n"
     ]
    }
   ],
   "source": [
    "\n",
    "df = pd.read_csv('../docs/data/GlobalWeatherRepository.csv')\n",
    "\n",
    "\n",
    "\n",
    "df = adjust_dataset(df, 'temperature_celsius')\n",
    "\n",
    "# print unique cities\n",
    "\n",
    "\n",
    "print (df.shape)\n"
   ]
  },
  {
   "cell_type": "code",
   "execution_count": 3,
   "metadata": {},
   "outputs": [
    {
     "name": "stdout",
     "output_type": "stream",
     "text": [
      "Iteration for variable:  temperature_celsius\n",
      "(19684, 41)\n",
      "Iteration for variable:  wind_kph\n",
      "(19684, 41)\n",
      "Iteration for variable:  humidity\n",
      "(19684, 41)\n",
      "Iteration for variable:  precip_mm\n",
      "(19684, 41)\n",
      "Iteration for variable:  cloud\n",
      "(19684, 41)\n"
     ]
    }
   ],
   "source": [
    "target_variables = ['temperature_celsius', 'wind_kph', 'humidity', 'precip_mm', 'cloud']\n",
    "evals = {}\n",
    "\n",
    "for variable in target_variables:\n",
    "    df = pd.read_csv('docs/data/GlobalWeatherRepository.csv')\n",
    "    indiv_eval = []\n",
    "    print (\"Iteration for variable: \", variable)\n",
    "    print (df.shape)\n",
    "    new_df = adjust_dataset(df, variable)\n",
    "    \n",
    "\n",
    "    model = Ann(new_df, variable)\n",
    "    model.train_model()\n",
    "\n",
    "    # Save the model\n",
    "    model.save_model(f'{variable}_ann_model.pth')\n",
    "\n",
    "    for i in range (100):\n",
    "        indiv_eval.append(model.evaluate())\n",
    "\n",
    "    evals[variable] = indiv_eval\n",
    "\n"
   ]
  },
  {
   "cell_type": "code",
   "execution_count": 4,
   "metadata": {},
   "outputs": [
    {
     "name": "stdout",
     "output_type": "stream",
     "text": [
      "temperature_celsius  -->  3.1447948479652403\n",
      "wind_kph  -->  7.741080441474915\n",
      "humidity  -->  16.020108184814454\n",
      "precip_mm  -->  0.768360425233841\n",
      "cloud  -->  32.09837100982666\n"
     ]
    }
   ],
   "source": [
    "for evaluation in evals.keys(): \n",
    "    print (evaluation, \" --> \", np.mean(evals[evaluation]))"
   ]
  },
  {
   "cell_type": "code",
   "execution_count": 5,
   "metadata": {},
   "outputs": [],
   "source": [
    "# lets open or create a file to append the results\n",
    "from time import gmtime, strftime\n",
    "text_name = strftime(\"%Y-%m-%d_ann\", gmtime())\n",
    "f = open(f\"docs/{text_name}\", \"w\")\n",
    "\n",
    "\n",
    "# we add the lines to the file\n",
    "# we add the date for the results\n",
    "\n",
    "for evaluation in evals.keys():\n",
    "    text = f\"evaluation for {evaluation} --> {np.mean(evals[evaluation])}\"\n",
    "    f.write(text)\n",
    "    f.write(\"\\n\")\n",
    "f.write(\"\\n\")\n",
    "f.close()"
   ]
  }
 ],
 "metadata": {
  "kernelspec": {
   "display_name": "Python 3",
   "language": "python",
   "name": "python3"
  },
  "language_info": {
   "codemirror_mode": {
    "name": "ipython",
    "version": 3
   },
   "file_extension": ".py",
   "mimetype": "text/x-python",
   "name": "python",
   "nbconvert_exporter": "python",
   "pygments_lexer": "ipython3",
   "version": "3.9.5"
  }
 },
 "nbformat": 4,
 "nbformat_minor": 2
}
