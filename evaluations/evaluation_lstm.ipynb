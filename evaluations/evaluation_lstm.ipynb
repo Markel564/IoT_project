{
 "cells": [
  {
   "cell_type": "code",
   "execution_count": null,
   "metadata": {},
   "outputs": [],
   "source": [
    "import warnings\n",
    "warnings.filterwarnings('ignore')\n",
    "import pandas as pd\n",
    "import numpy as np\n",
    "import sys\n",
    "sys.path.insert(0, '../')\n",
    "from operations import adjust_dataset, split_data, LSTMPredictorWrapper"
   ]
  },
  {
   "cell_type": "code",
   "execution_count": null,
   "metadata": {},
   "outputs": [],
   "source": [
    "\n",
    "df = pd.read_csv('../docs/data/GlobalWeatherRepository.csv')"
   ]
  },
  {
   "cell_type": "code",
   "execution_count": null,
   "metadata": {},
   "outputs": [],
   "source": [
    "target_variables = ['temperature_celsius', 'wind_kph', 'humidity', 'precip_mm', 'cloud']\n",
    "evals = {}\n",
    "\n",
    "for variable in target_variables:\n",
    "    df = pd.read_csv('../docs/data/GlobalWeatherRepository.csv')\n",
    "    indiv_eval = []\n",
    "    print (\"Iteration for variable: \", variable)\n",
    "    print (df.shape)\n",
    "    new_df = adjust_dataset(df, variable)\n",
    "\n",
    "\n",
    "    \n",
    "\n",
    "    model = LSTMPredictorWrapper(new_df, variable)\n",
    "    model.train_model()\n",
    "    model.save_model(f'../models/{variable}_lstm_model.pth')\n",
    "    \n",
    "\n",
    "    for i in range (100):\n",
    "        indiv_eval.append(model.evaluate())\n",
    "\n",
    "    evals[variable] = indiv_eval\n"
   ]
  },
  {
   "cell_type": "code",
   "execution_count": null,
   "metadata": {},
   "outputs": [],
   "source": [
    "for evaluation in evals.keys(): \n",
    "    print (evaluation, \" --> \", np.mean(evals[evaluation]))"
   ]
  },
  {
   "cell_type": "code",
   "execution_count": null,
   "metadata": {},
   "outputs": [],
   "source": [
    "# lets open or create a file to append the results\n",
    "from time import gmtime, strftime\n",
    "text_name = strftime(\"%Y-%m-%d_lstm\", gmtime())\n",
    "f = open(f\"../docs/{text_name}\", \"w\")\n",
    "\n",
    "\n",
    "# we add the lines to the file\n",
    "# we add the date for the results\n",
    "\n",
    "for evaluation in evals.keys():\n",
    "    text = f\"evaluation for {evaluation} --> {np.mean(evals[evaluation])}\"\n",
    "    f.write(text)\n",
    "    f.write(\"\\n\")\n",
    "f.write(\"\\n\")\n",
    "f.close()"
   ]
  }
 ],
 "metadata": {
  "kernelspec": {
   "display_name": "Python 3",
   "language": "python",
   "name": "python3"
  },
  "language_info": {
   "codemirror_mode": {
    "name": "ipython",
    "version": 3
   },
   "file_extension": ".py",
   "mimetype": "text/x-python",
   "name": "python",
   "nbconvert_exporter": "python",
   "pygments_lexer": "ipython3",
   "version": "3.9.0"
  }
 },
 "nbformat": 4,
 "nbformat_minor": 2
}
