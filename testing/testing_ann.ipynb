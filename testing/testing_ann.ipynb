{
 "cells": [
  {
   "cell_type": "code",
   "execution_count": 1,
   "metadata": {},
   "outputs": [],
   "source": [
    "import warnings\n",
    "warnings.filterwarnings('ignore')\n",
    "import pandas as pd\n",
    "import sys\n",
    "sys.path.insert(0, '../')\n",
    "from operations import adjust_dataset, split_data, Ann"
   ]
  },
  {
   "cell_type": "code",
   "execution_count": 2,
   "metadata": {},
   "outputs": [
    {
     "name": "stdout",
     "output_type": "stream",
     "text": [
      "(22219, 24)\n"
     ]
    }
   ],
   "source": [
    "\n",
    "df = pd.read_csv('../docs/data/GlobalWeatherRepository.csv')\n",
    "target_variable = 'temperature_celsius'\n",
    "\n",
    "df = adjust_dataset(df, target_variable=target_variable)\n",
    "print (df.shape)"
   ]
  },
  {
   "cell_type": "code",
   "execution_count": 3,
   "metadata": {},
   "outputs": [],
   "source": [
    "model = Ann(df, target_variable=target_variable)\n",
    "model.train_model()"
   ]
  },
  {
   "cell_type": "code",
   "execution_count": 4,
   "metadata": {},
   "outputs": [
    {
     "name": "stdout",
     "output_type": "stream",
     "text": [
      "3.2340433597564697\n"
     ]
    }
   ],
   "source": [
    "res = model.evaluate()\n",
    "print (res)"
   ]
  },
  {
   "cell_type": "code",
   "execution_count": 5,
   "metadata": {},
   "outputs": [
    {
     "name": "stdout",
     "output_type": "stream",
     "text": [
      "[('location_name', 8.837561153995921e-07), ('wind_kph', -5.891707246519218e-07), ('wind_degree', -1.4729268968949327e-06), ('pressure_mb', 9.819511888053967e-07), ('precip_mm', -3.927804925751843e-07), ('humidity', 2.945853623259609e-07), ('cloud', 3.927804925751843e-07), ('feels_like_celsius', -7.855609851503687e-07), ('visibility_km', 6.873658549011452e-07), ('uv_index', 3.927804925751843e-07), ('gust_kph', -2.945853623259609e-07), ('air_quality_Carbon_Monoxide', -5.891707246519218e-07), ('air_quality_Ozone', 3.927804925751843e-07), ('air_quality_Nitrogen_dioxide', 1.9639024628759216e-07), ('air_quality_Sulphur_dioxide', 3.927804925751843e-07), ('air_quality_PM2.5', -3.927804925751843e-07), ('air_quality_PM10', 7.855609851503687e-07), ('air_quality_gb-defra-index', -3.927804925751843e-07), ('sunrise', 3.927804925751843e-07), ('sunset', -6.873658549011452e-07), ('moonrise', -1.1783414493038435e-06), ('moonset', 7.855609851503687e-07), ('moon_illumination', -6.873658549011452e-07)]\n"
     ]
    }
   ],
   "source": [
    "res = model.compute_feature_importance()\n",
    "\n",
    "print (res)"
   ]
  }
 ],
 "metadata": {
  "kernelspec": {
   "display_name": "Python 3",
   "language": "python",
   "name": "python3"
  },
  "language_info": {
   "codemirror_mode": {
    "name": "ipython",
    "version": 3
   },
   "file_extension": ".py",
   "mimetype": "text/x-python",
   "name": "python",
   "nbconvert_exporter": "python",
   "pygments_lexer": "ipython3",
   "version": "3.9.5"
  }
 },
 "nbformat": 4,
 "nbformat_minor": 2
}
