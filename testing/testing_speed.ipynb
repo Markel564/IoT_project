{
 "cells": [
  {
   "cell_type": "code",
   "execution_count": null,
   "metadata": {},
   "outputs": [],
   "source": [
    "import warnings\n",
    "warnings.filterwarnings('ignore')\n",
    "import pandas as pd\n",
    "import sys\n",
    "sys.path.insert(0, '../')\n",
    "from operations import adjust_dataset, split_data, LSTMPredictorWrapper"
   ]
  },
  {
   "cell_type": "code",
   "execution_count": null,
   "metadata": {},
   "outputs": [],
   "source": [
    "import time\n",
    "\n",
    "start_time = time.time()\n",
    "\n",
    "file_path = \"../docs/data/temperature_celsius/GlobalWeatherRepository_temperature_celsius.csv\"\n",
    "model_path = \"../models/temperature_celsius_ann_model.pth\"\n",
    "\n",
    "df = pd.read_csv(file_path)\n",
    "\n",
    "my_model = LSTMPredictorWrapper(df, target_variable=\"temperature_celsius\")\n",
    "\n",
    "my_model.load_model(model_path)\n",
    "\n",
    "end_time = time.time()\n",
    "\n",
    "print(\"Time taken to load model: \", end_time - start_time)"
   ]
  }
 ],
 "metadata": {
  "kernelspec": {
   "display_name": "Python 3",
   "language": "python",
   "name": "python3"
  },
  "language_info": {
   "codemirror_mode": {
    "name": "ipython",
    "version": 3
   },
   "file_extension": ".py",
   "mimetype": "text/x-python",
   "name": "python",
   "nbconvert_exporter": "python",
   "pygments_lexer": "ipython3",
   "version": "3.9.0"
  }
 },
 "nbformat": 4,
 "nbformat_minor": 2
}
