{
 "cells": [
  {
   "cell_type": "code",
   "execution_count": 1,
   "metadata": {},
   "outputs": [],
   "source": [
    "import warnings\n",
    "warnings.filterwarnings('ignore')\n",
    "import pandas as pd\n",
    "import sys\n",
    "sys.path.insert(0, '../')\n",
    "from operations import adjust_dataset, split_data, LSTMPredictorWrapper"
   ]
  },
  {
   "cell_type": "code",
   "execution_count": 2,
   "metadata": {},
   "outputs": [],
   "source": [
    "df = pd.read_csv('../docs/data/GlobalWeatherRepository.csv')\n",
    "target_variable = 'temperature_celsius'\n",
    "# target_variable = 'cloud'\n",
    "df = adjust_dataset(df, target_variable=target_variable)\n",
    "\n",
    "\n"
   ]
  },
  {
   "cell_type": "code",
   "execution_count": 3,
   "metadata": {},
   "outputs": [],
   "source": [
    "model = LSTMPredictorWrapper(df, target_variable)"
   ]
  },
  {
   "cell_type": "code",
   "execution_count": 4,
   "metadata": {},
   "outputs": [],
   "source": [
    "model.train_model()"
   ]
  },
  {
   "cell_type": "code",
   "execution_count": 5,
   "metadata": {},
   "outputs": [
    {
     "name": "stdout",
     "output_type": "stream",
     "text": [
      "3.633113384246826\n"
     ]
    }
   ],
   "source": [
    "res = model.evaluate()\n",
    "print (res)"
   ]
  },
  {
   "cell_type": "markdown",
   "metadata": {},
   "source": [
    "# Hyperparameter optimization"
   ]
  },
  {
   "cell_type": "code",
   "execution_count": null,
   "metadata": {},
   "outputs": [],
   "source": [
    "hyperparameter_grid = {\n",
    "    'batch_size': [32],\n",
    "    'n_layers': [1, 2, 3],\n",
    "    'dropout': [0.2],\n",
    "    'learning_rate': [0.001],\n",
    "    'optimizer': ['adam', 'rmsprop'],\n",
    "    'hidden_size': [32, 64, 128],\n",
    "    'num_layers': [1, 2, 3]\n",
    "}\n",
    "\n",
    "num_epochs_list = [10, 25, 50]\n",
    "\n",
    "tuning_results = model.hyperparameter_tuning(hyperparameter_grid, num_epochs_list)\n",
    "\n",
    "print (tuning_results)"
   ]
  },
  {
   "cell_type": "code",
   "execution_count": null,
   "metadata": {},
   "outputs": [],
   "source": [
    "{'params': {'n_layers': 2, 'num_layers': 1, 'optimizer': 'adam'}, 'evaluation_result': 3.1162359714508057}"
   ]
  }
 ],
 "metadata": {
  "kernelspec": {
   "display_name": "Python 3",
   "language": "python",
   "name": "python3"
  },
  "language_info": {
   "codemirror_mode": {
    "name": "ipython",
    "version": 3
   },
   "file_extension": ".py",
   "mimetype": "text/x-python",
   "name": "python",
   "nbconvert_exporter": "python",
   "pygments_lexer": "ipython3",
   "version": "3.9.5"
  }
 },
 "nbformat": 4,
 "nbformat_minor": 2
}
